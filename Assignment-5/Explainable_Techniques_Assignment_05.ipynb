{
  "cells": [
    {
      "cell_type": "markdown",
      "metadata": {
        "colab_type": "text",
        "id": "view-in-github"
      },
      "source": [
        "<a href=\"https://colab.research.google.com/github/akalpit23/Explainable-techniques/blob/main/Explainable_Techniques_Assignment_05.ipynb\" target=\"_parent\"><img src=\"https://colab.research.google.com/assets/colab-badge.svg\" alt=\"Open In Colab\"/></a>"
      ]
    },
    {
      "cell_type": "markdown",
      "metadata": {
        "id": "DaojfcQZwquA"
      },
      "source": [
        "# AIPI 590 - XAI | Assignment #05\n",
        "\n",
        "\n",
        "\n",
        "## Akalpit Dawkhar\n",
        "\n",
        "### **Explainable Techniques**\n",
        "\n",
        "### Overview"
      ]
    },
    {
      "cell_type": "code",
      "execution_count": 1,
      "metadata": {
        "colab": {
          "base_uri": "https://localhost:8080/"
        },
        "id": "_VH5w6rqwquC",
        "outputId": "93178bfb-caef-4983-bb90-b0e646f8e4f4"
      },
      "outputs": [
        {
          "name": "stdout",
          "output_type": "stream",
          "text": [
            "rm: ./sample_data: No such file or directory\n",
            "fatal: destination path 'Explainable-techniques' already exists and is not an empty directory.\n",
            "Requirement already satisfied: numpy in /Users/akalpitdawkhar/anaconda3/lib/python3.11/site-packages (from -r Explainable-techniques/Assignment-5/requirements.txt (line 1)) (1.25.2)\n",
            "Requirement already satisfied: pandas in /Users/akalpitdawkhar/anaconda3/lib/python3.11/site-packages (from -r Explainable-techniques/Assignment-5/requirements.txt (line 2)) (2.0.3)\n",
            "Requirement already satisfied: matplotlib in /Users/akalpitdawkhar/anaconda3/lib/python3.11/site-packages (from -r Explainable-techniques/Assignment-5/requirements.txt (line 3)) (3.7.1)\n",
            "Requirement already satisfied: scikit-learn in /Users/akalpitdawkhar/anaconda3/lib/python3.11/site-packages (from -r Explainable-techniques/Assignment-5/requirements.txt (line 4)) (1.2.2)\n",
            "Requirement already satisfied: lime in /Users/akalpitdawkhar/anaconda3/lib/python3.11/site-packages (from -r Explainable-techniques/Assignment-5/requirements.txt (line 5)) (0.2.0.1)\n",
            "Requirement already satisfied: anchor-exp in /Users/akalpitdawkhar/anaconda3/lib/python3.11/site-packages (from -r Explainable-techniques/Assignment-5/requirements.txt (line 6)) (0.0.2.0)\n",
            "Requirement already satisfied: shap in /Users/akalpitdawkhar/anaconda3/lib/python3.11/site-packages (from -r Explainable-techniques/Assignment-5/requirements.txt (line 7)) (0.45.1)\n",
            "Requirement already satisfied: xgboost in /Users/akalpitdawkhar/anaconda3/lib/python3.11/site-packages (from -r Explainable-techniques/Assignment-5/requirements.txt (line 8)) (2.1.1)\n",
            "Requirement already satisfied: seaborn in /Users/akalpitdawkhar/anaconda3/lib/python3.11/site-packages (from -r Explainable-techniques/Assignment-5/requirements.txt (line 9)) (0.13.2)\n",
            "Requirement already satisfied: torch in /Users/akalpitdawkhar/anaconda3/lib/python3.11/site-packages (from -r Explainable-techniques/Assignment-5/requirements.txt (line 10)) (2.4.1)\n",
            "Requirement already satisfied: torchvision in /Users/akalpitdawkhar/anaconda3/lib/python3.11/site-packages (from -r Explainable-techniques/Assignment-5/requirements.txt (line 11)) (0.19.1)\n",
            "Requirement already satisfied: adversarial-robustness-toolbox in /Users/akalpitdawkhar/anaconda3/lib/python3.11/site-packages (from -r Explainable-techniques/Assignment-5/requirements.txt (line 12)) (1.18.1)\n",
            "Requirement already satisfied: opencv-python in /Users/akalpitdawkhar/anaconda3/lib/python3.11/site-packages (from -r Explainable-techniques/Assignment-5/requirements.txt (line 13)) (4.10.0.84)\n",
            "Requirement already satisfied: tqdm in /Users/akalpitdawkhar/anaconda3/lib/python3.11/site-packages (from -r Explainable-techniques/Assignment-5/requirements.txt (line 14)) (4.65.0)\n",
            "Requirement already satisfied: tensorflow in /Users/akalpitdawkhar/anaconda3/lib/python3.11/site-packages (from -r Explainable-techniques/Assignment-5/requirements.txt (line 15)) (2.17.0)\n",
            "Requirement already satisfied: tensorflow-hub in /Users/akalpitdawkhar/anaconda3/lib/python3.11/site-packages (from -r Explainable-techniques/Assignment-5/requirements.txt (line 16)) (0.16.1)\n",
            "Requirement already satisfied: transformers in /Users/akalpitdawkhar/anaconda3/lib/python3.11/site-packages (from -r Explainable-techniques/Assignment-5/requirements.txt (line 17)) (4.32.1)\n",
            "Requirement already satisfied: pillow in /Users/akalpitdawkhar/anaconda3/lib/python3.11/site-packages (from -r Explainable-techniques/Assignment-5/requirements.txt (line 18)) (9.4.0)\n",
            "Requirement already satisfied: requests in /Users/akalpitdawkhar/anaconda3/lib/python3.11/site-packages (from -r Explainable-techniques/Assignment-5/requirements.txt (line 19)) (2.31.0)\n",
            "Requirement already satisfied: alibi in /Users/akalpitdawkhar/anaconda3/lib/python3.11/site-packages (from -r Explainable-techniques/Assignment-5/requirements.txt (line 20)) (0.9.6)\n",
            "Requirement already satisfied: python-dateutil>=2.8.2 in /Users/akalpitdawkhar/anaconda3/lib/python3.11/site-packages (from pandas->-r Explainable-techniques/Assignment-5/requirements.txt (line 2)) (2.8.2)\n",
            "Requirement already satisfied: pytz>=2020.1 in /Users/akalpitdawkhar/anaconda3/lib/python3.11/site-packages (from pandas->-r Explainable-techniques/Assignment-5/requirements.txt (line 2)) (2023.3.post1)\n",
            "Requirement already satisfied: tzdata>=2022.1 in /Users/akalpitdawkhar/anaconda3/lib/python3.11/site-packages (from pandas->-r Explainable-techniques/Assignment-5/requirements.txt (line 2)) (2023.3)\n",
            "Requirement already satisfied: contourpy>=1.0.1 in /Users/akalpitdawkhar/anaconda3/lib/python3.11/site-packages (from matplotlib->-r Explainable-techniques/Assignment-5/requirements.txt (line 3)) (1.0.5)\n",
            "Requirement already satisfied: cycler>=0.10 in /Users/akalpitdawkhar/anaconda3/lib/python3.11/site-packages (from matplotlib->-r Explainable-techniques/Assignment-5/requirements.txt (line 3)) (0.11.0)\n",
            "Requirement already satisfied: fonttools>=4.22.0 in /Users/akalpitdawkhar/anaconda3/lib/python3.11/site-packages (from matplotlib->-r Explainable-techniques/Assignment-5/requirements.txt (line 3)) (4.25.0)\n",
            "Requirement already satisfied: kiwisolver>=1.0.1 in /Users/akalpitdawkhar/anaconda3/lib/python3.11/site-packages (from matplotlib->-r Explainable-techniques/Assignment-5/requirements.txt (line 3)) (1.4.4)\n",
            "Requirement already satisfied: packaging>=20.0 in /Users/akalpitdawkhar/anaconda3/lib/python3.11/site-packages (from matplotlib->-r Explainable-techniques/Assignment-5/requirements.txt (line 3)) (23.1)\n",
            "Requirement already satisfied: pyparsing>=2.3.1 in /Users/akalpitdawkhar/anaconda3/lib/python3.11/site-packages (from matplotlib->-r Explainable-techniques/Assignment-5/requirements.txt (line 3)) (3.0.9)\n",
            "Requirement already satisfied: scipy>=1.3.2 in /Users/akalpitdawkhar/anaconda3/lib/python3.11/site-packages (from scikit-learn->-r Explainable-techniques/Assignment-5/requirements.txt (line 4)) (1.11.4)\n",
            "Requirement already satisfied: joblib>=1.1.1 in /Users/akalpitdawkhar/anaconda3/lib/python3.11/site-packages (from scikit-learn->-r Explainable-techniques/Assignment-5/requirements.txt (line 4)) (1.2.0)\n",
            "Requirement already satisfied: threadpoolctl>=2.0.0 in /Users/akalpitdawkhar/anaconda3/lib/python3.11/site-packages (from scikit-learn->-r Explainable-techniques/Assignment-5/requirements.txt (line 4)) (3.5.0)\n",
            "Requirement already satisfied: scikit-image>=0.12 in /Users/akalpitdawkhar/anaconda3/lib/python3.11/site-packages (from lime->-r Explainable-techniques/Assignment-5/requirements.txt (line 5)) (0.20.0)\n",
            "Requirement already satisfied: spacy in /Users/akalpitdawkhar/anaconda3/lib/python3.11/site-packages (from anchor-exp->-r Explainable-techniques/Assignment-5/requirements.txt (line 6)) (3.7.5)\n",
            "Requirement already satisfied: slicer==0.0.8 in /Users/akalpitdawkhar/anaconda3/lib/python3.11/site-packages (from shap->-r Explainable-techniques/Assignment-5/requirements.txt (line 7)) (0.0.8)\n",
            "Requirement already satisfied: numba in /Users/akalpitdawkhar/anaconda3/lib/python3.11/site-packages (from shap->-r Explainable-techniques/Assignment-5/requirements.txt (line 7)) (0.58.0)\n",
            "Requirement already satisfied: cloudpickle in /Users/akalpitdawkhar/anaconda3/lib/python3.11/site-packages (from shap->-r Explainable-techniques/Assignment-5/requirements.txt (line 7)) (2.2.1)\n",
            "Requirement already satisfied: filelock in /Users/akalpitdawkhar/anaconda3/lib/python3.11/site-packages (from torch->-r Explainable-techniques/Assignment-5/requirements.txt (line 10)) (3.9.0)\n",
            "Requirement already satisfied: typing-extensions>=4.8.0 in /Users/akalpitdawkhar/anaconda3/lib/python3.11/site-packages (from torch->-r Explainable-techniques/Assignment-5/requirements.txt (line 10)) (4.12.2)\n",
            "Requirement already satisfied: sympy in /Users/akalpitdawkhar/anaconda3/lib/python3.11/site-packages (from torch->-r Explainable-techniques/Assignment-5/requirements.txt (line 10)) (1.11.1)\n",
            "Requirement already satisfied: networkx in /Users/akalpitdawkhar/anaconda3/lib/python3.11/site-packages (from torch->-r Explainable-techniques/Assignment-5/requirements.txt (line 10)) (2.8.8)\n",
            "Requirement already satisfied: jinja2 in /Users/akalpitdawkhar/anaconda3/lib/python3.11/site-packages (from torch->-r Explainable-techniques/Assignment-5/requirements.txt (line 10)) (3.1.2)\n",
            "Requirement already satisfied: fsspec in /Users/akalpitdawkhar/anaconda3/lib/python3.11/site-packages (from torch->-r Explainable-techniques/Assignment-5/requirements.txt (line 10)) (2024.9.0)\n",
            "Requirement already satisfied: six in /Users/akalpitdawkhar/anaconda3/lib/python3.11/site-packages (from adversarial-robustness-toolbox->-r Explainable-techniques/Assignment-5/requirements.txt (line 12)) (1.16.0)\n",
            "Requirement already satisfied: setuptools in /Users/akalpitdawkhar/anaconda3/lib/python3.11/site-packages (from adversarial-robustness-toolbox->-r Explainable-techniques/Assignment-5/requirements.txt (line 12)) (75.1.0)\n",
            "Requirement already satisfied: absl-py>=1.0.0 in /Users/akalpitdawkhar/anaconda3/lib/python3.11/site-packages (from tensorflow->-r Explainable-techniques/Assignment-5/requirements.txt (line 15)) (2.1.0)\n",
            "Requirement already satisfied: astunparse>=1.6.0 in /Users/akalpitdawkhar/anaconda3/lib/python3.11/site-packages (from tensorflow->-r Explainable-techniques/Assignment-5/requirements.txt (line 15)) (1.6.3)\n",
            "Requirement already satisfied: flatbuffers>=24.3.25 in /Users/akalpitdawkhar/anaconda3/lib/python3.11/site-packages (from tensorflow->-r Explainable-techniques/Assignment-5/requirements.txt (line 15)) (24.3.25)\n",
            "Requirement already satisfied: gast!=0.5.0,!=0.5.1,!=0.5.2,>=0.2.1 in /Users/akalpitdawkhar/anaconda3/lib/python3.11/site-packages (from tensorflow->-r Explainable-techniques/Assignment-5/requirements.txt (line 15)) (0.6.0)\n",
            "Requirement already satisfied: google-pasta>=0.1.1 in /Users/akalpitdawkhar/anaconda3/lib/python3.11/site-packages (from tensorflow->-r Explainable-techniques/Assignment-5/requirements.txt (line 15)) (0.2.0)\n",
            "Requirement already satisfied: h5py>=3.10.0 in /Users/akalpitdawkhar/anaconda3/lib/python3.11/site-packages (from tensorflow->-r Explainable-techniques/Assignment-5/requirements.txt (line 15)) (3.12.1)\n",
            "Requirement already satisfied: libclang>=13.0.0 in /Users/akalpitdawkhar/anaconda3/lib/python3.11/site-packages (from tensorflow->-r Explainable-techniques/Assignment-5/requirements.txt (line 15)) (18.1.1)\n",
            "Requirement already satisfied: ml-dtypes<0.5.0,>=0.3.1 in /Users/akalpitdawkhar/anaconda3/lib/python3.11/site-packages (from tensorflow->-r Explainable-techniques/Assignment-5/requirements.txt (line 15)) (0.4.1)\n",
            "Requirement already satisfied: opt-einsum>=2.3.2 in /Users/akalpitdawkhar/anaconda3/lib/python3.11/site-packages (from tensorflow->-r Explainable-techniques/Assignment-5/requirements.txt (line 15)) (3.4.0)\n",
            "Requirement already satisfied: protobuf!=4.21.0,!=4.21.1,!=4.21.2,!=4.21.3,!=4.21.4,!=4.21.5,<5.0.0dev,>=3.20.3 in /Users/akalpitdawkhar/anaconda3/lib/python3.11/site-packages (from tensorflow->-r Explainable-techniques/Assignment-5/requirements.txt (line 15)) (3.20.3)\n",
            "Requirement already satisfied: termcolor>=1.1.0 in /Users/akalpitdawkhar/anaconda3/lib/python3.11/site-packages (from tensorflow->-r Explainable-techniques/Assignment-5/requirements.txt (line 15)) (2.4.0)\n",
            "Requirement already satisfied: wrapt>=1.11.0 in /Users/akalpitdawkhar/anaconda3/lib/python3.11/site-packages (from tensorflow->-r Explainable-techniques/Assignment-5/requirements.txt (line 15)) (1.14.1)\n",
            "Requirement already satisfied: grpcio<2.0,>=1.24.3 in /Users/akalpitdawkhar/anaconda3/lib/python3.11/site-packages (from tensorflow->-r Explainable-techniques/Assignment-5/requirements.txt (line 15)) (1.66.2)\n",
            "Requirement already satisfied: tensorboard<2.18,>=2.17 in /Users/akalpitdawkhar/anaconda3/lib/python3.11/site-packages (from tensorflow->-r Explainable-techniques/Assignment-5/requirements.txt (line 15)) (2.17.1)\n",
            "Requirement already satisfied: keras>=3.2.0 in /Users/akalpitdawkhar/anaconda3/lib/python3.11/site-packages (from tensorflow->-r Explainable-techniques/Assignment-5/requirements.txt (line 15)) (3.5.0)\n",
            "Requirement already satisfied: tensorflow-io-gcs-filesystem>=0.23.1 in /Users/akalpitdawkhar/anaconda3/lib/python3.11/site-packages (from tensorflow->-r Explainable-techniques/Assignment-5/requirements.txt (line 15)) (0.37.1)\n",
            "Requirement already satisfied: tf-keras>=2.14.1 in /Users/akalpitdawkhar/anaconda3/lib/python3.11/site-packages (from tensorflow-hub->-r Explainable-techniques/Assignment-5/requirements.txt (line 16)) (2.17.0)\n",
            "Requirement already satisfied: huggingface-hub<1.0,>=0.15.1 in /Users/akalpitdawkhar/anaconda3/lib/python3.11/site-packages (from transformers->-r Explainable-techniques/Assignment-5/requirements.txt (line 17)) (0.24.7)\n",
            "Requirement already satisfied: pyyaml>=5.1 in /Users/akalpitdawkhar/anaconda3/lib/python3.11/site-packages (from transformers->-r Explainable-techniques/Assignment-5/requirements.txt (line 17)) (6.0.1)\n",
            "Requirement already satisfied: regex!=2019.12.17 in /Users/akalpitdawkhar/anaconda3/lib/python3.11/site-packages (from transformers->-r Explainable-techniques/Assignment-5/requirements.txt (line 17)) (2023.10.3)\n",
            "Requirement already satisfied: tokenizers!=0.11.3,<0.14,>=0.11.1 in /Users/akalpitdawkhar/anaconda3/lib/python3.11/site-packages (from transformers->-r Explainable-techniques/Assignment-5/requirements.txt (line 17)) (0.13.2)\n",
            "Requirement already satisfied: safetensors>=0.3.1 in /Users/akalpitdawkhar/anaconda3/lib/python3.11/site-packages (from transformers->-r Explainable-techniques/Assignment-5/requirements.txt (line 17)) (0.4.0)\n",
            "Requirement already satisfied: charset-normalizer<4,>=2 in /Users/akalpitdawkhar/anaconda3/lib/python3.11/site-packages (from requests->-r Explainable-techniques/Assignment-5/requirements.txt (line 19)) (2.0.4)\n",
            "Requirement already satisfied: idna<4,>=2.5 in /Users/akalpitdawkhar/anaconda3/lib/python3.11/site-packages (from requests->-r Explainable-techniques/Assignment-5/requirements.txt (line 19)) (3.4)\n",
            "Requirement already satisfied: urllib3<3,>=1.21.1 in /Users/akalpitdawkhar/anaconda3/lib/python3.11/site-packages (from requests->-r Explainable-techniques/Assignment-5/requirements.txt (line 19)) (1.26.18)\n",
            "Requirement already satisfied: certifi>=2017.4.17 in /Users/akalpitdawkhar/anaconda3/lib/python3.11/site-packages (from requests->-r Explainable-techniques/Assignment-5/requirements.txt (line 19)) (2024.8.30)\n",
            "Requirement already satisfied: blis<0.8.0 in /Users/akalpitdawkhar/anaconda3/lib/python3.11/site-packages (from alibi->-r Explainable-techniques/Assignment-5/requirements.txt (line 20)) (0.7.11)\n",
            "Requirement already satisfied: attrs<24.0.0,>=19.2.0 in /Users/akalpitdawkhar/anaconda3/lib/python3.11/site-packages (from alibi->-r Explainable-techniques/Assignment-5/requirements.txt (line 20)) (23.1.0)\n",
            "Requirement already satisfied: dill<0.4.0,>=0.3.0 in /Users/akalpitdawkhar/anaconda3/lib/python3.11/site-packages (from alibi->-r Explainable-techniques/Assignment-5/requirements.txt (line 20)) (0.3.6)\n",
            "Requirement already satisfied: wheel<1.0,>=0.23.0 in /Users/akalpitdawkhar/anaconda3/lib/python3.11/site-packages (from astunparse>=1.6.0->tensorflow->-r Explainable-techniques/Assignment-5/requirements.txt (line 15)) (0.38.4)\n",
            "Requirement already satisfied: rich in /Users/akalpitdawkhar/anaconda3/lib/python3.11/site-packages (from keras>=3.2.0->tensorflow->-r Explainable-techniques/Assignment-5/requirements.txt (line 15)) (13.3.5)\n",
            "Requirement already satisfied: namex in /Users/akalpitdawkhar/anaconda3/lib/python3.11/site-packages (from keras>=3.2.0->tensorflow->-r Explainable-techniques/Assignment-5/requirements.txt (line 15)) (0.0.8)\n",
            "Requirement already satisfied: optree in /Users/akalpitdawkhar/anaconda3/lib/python3.11/site-packages (from keras>=3.2.0->tensorflow->-r Explainable-techniques/Assignment-5/requirements.txt (line 15)) (0.12.1)\n",
            "Requirement already satisfied: imageio>=2.4.1 in /Users/akalpitdawkhar/anaconda3/lib/python3.11/site-packages (from scikit-image>=0.12->lime->-r Explainable-techniques/Assignment-5/requirements.txt (line 5)) (2.31.4)\n",
            "Requirement already satisfied: tifffile>=2019.7.26 in /Users/akalpitdawkhar/anaconda3/lib/python3.11/site-packages (from scikit-image>=0.12->lime->-r Explainable-techniques/Assignment-5/requirements.txt (line 5)) (2023.4.12)\n",
            "Requirement already satisfied: PyWavelets>=1.1.1 in /Users/akalpitdawkhar/anaconda3/lib/python3.11/site-packages (from scikit-image>=0.12->lime->-r Explainable-techniques/Assignment-5/requirements.txt (line 5)) (1.4.1)\n",
            "Requirement already satisfied: lazy_loader>=0.1 in /Users/akalpitdawkhar/anaconda3/lib/python3.11/site-packages (from scikit-image>=0.12->lime->-r Explainable-techniques/Assignment-5/requirements.txt (line 5)) (0.3)\n",
            "Requirement already satisfied: spacy-legacy<3.1.0,>=3.0.11 in /Users/akalpitdawkhar/anaconda3/lib/python3.11/site-packages (from spacy->anchor-exp->-r Explainable-techniques/Assignment-5/requirements.txt (line 6)) (3.0.12)\n",
            "Requirement already satisfied: spacy-loggers<2.0.0,>=1.0.0 in /Users/akalpitdawkhar/anaconda3/lib/python3.11/site-packages (from spacy->anchor-exp->-r Explainable-techniques/Assignment-5/requirements.txt (line 6)) (1.0.5)\n",
            "Requirement already satisfied: murmurhash<1.1.0,>=0.28.0 in /Users/akalpitdawkhar/anaconda3/lib/python3.11/site-packages (from spacy->anchor-exp->-r Explainable-techniques/Assignment-5/requirements.txt (line 6)) (1.0.10)\n",
            "Requirement already satisfied: cymem<2.1.0,>=2.0.2 in /Users/akalpitdawkhar/anaconda3/lib/python3.11/site-packages (from spacy->anchor-exp->-r Explainable-techniques/Assignment-5/requirements.txt (line 6)) (2.0.8)\n",
            "Requirement already satisfied: preshed<3.1.0,>=3.0.2 in /Users/akalpitdawkhar/anaconda3/lib/python3.11/site-packages (from spacy->anchor-exp->-r Explainable-techniques/Assignment-5/requirements.txt (line 6)) (3.0.9)\n",
            "Requirement already satisfied: thinc<8.3.0,>=8.2.2 in /Users/akalpitdawkhar/anaconda3/lib/python3.11/site-packages (from spacy->anchor-exp->-r Explainable-techniques/Assignment-5/requirements.txt (line 6)) (8.2.5)\n",
            "Requirement already satisfied: wasabi<1.2.0,>=0.9.1 in /Users/akalpitdawkhar/anaconda3/lib/python3.11/site-packages (from spacy->anchor-exp->-r Explainable-techniques/Assignment-5/requirements.txt (line 6)) (1.1.3)\n",
            "Requirement already satisfied: srsly<3.0.0,>=2.4.3 in /Users/akalpitdawkhar/anaconda3/lib/python3.11/site-packages (from spacy->anchor-exp->-r Explainable-techniques/Assignment-5/requirements.txt (line 6)) (2.4.8)\n",
            "Requirement already satisfied: catalogue<2.1.0,>=2.0.6 in /Users/akalpitdawkhar/anaconda3/lib/python3.11/site-packages (from spacy->anchor-exp->-r Explainable-techniques/Assignment-5/requirements.txt (line 6)) (2.0.10)\n",
            "Requirement already satisfied: weasel<0.5.0,>=0.1.0 in /Users/akalpitdawkhar/anaconda3/lib/python3.11/site-packages (from spacy->anchor-exp->-r Explainable-techniques/Assignment-5/requirements.txt (line 6)) (0.4.1)\n",
            "Requirement already satisfied: typer<1.0.0,>=0.3.0 in /Users/akalpitdawkhar/anaconda3/lib/python3.11/site-packages (from spacy->anchor-exp->-r Explainable-techniques/Assignment-5/requirements.txt (line 6)) (0.12.5)\n",
            "Requirement already satisfied: pydantic!=1.8,!=1.8.1,<3.0.0,>=1.7.4 in /Users/akalpitdawkhar/anaconda3/lib/python3.11/site-packages (from spacy->anchor-exp->-r Explainable-techniques/Assignment-5/requirements.txt (line 6)) (1.10.12)\n",
            "Requirement already satisfied: langcodes<4.0.0,>=3.2.0 in /Users/akalpitdawkhar/anaconda3/lib/python3.11/site-packages (from spacy->anchor-exp->-r Explainable-techniques/Assignment-5/requirements.txt (line 6)) (3.4.1)\n",
            "Requirement already satisfied: spacy-lookups-data<1.1.0,>=1.0.3 in /Users/akalpitdawkhar/anaconda3/lib/python3.11/site-packages (from spacy[lookups]<4.0.0,>=2.0.0->alibi->-r Explainable-techniques/Assignment-5/requirements.txt (line 20)) (1.0.5)\n",
            "Requirement already satisfied: markdown>=2.6.8 in /Users/akalpitdawkhar/anaconda3/lib/python3.11/site-packages (from tensorboard<2.18,>=2.17->tensorflow->-r Explainable-techniques/Assignment-5/requirements.txt (line 15)) (3.4.1)\n",
            "Requirement already satisfied: tensorboard-data-server<0.8.0,>=0.7.0 in /Users/akalpitdawkhar/anaconda3/lib/python3.11/site-packages (from tensorboard<2.18,>=2.17->tensorflow->-r Explainable-techniques/Assignment-5/requirements.txt (line 15)) (0.7.2)\n",
            "Requirement already satisfied: werkzeug>=1.0.1 in /Users/akalpitdawkhar/anaconda3/lib/python3.11/site-packages (from tensorboard<2.18,>=2.17->tensorflow->-r Explainable-techniques/Assignment-5/requirements.txt (line 15)) (2.2.3)\n",
            "Requirement already satisfied: MarkupSafe>=2.0 in /Users/akalpitdawkhar/anaconda3/lib/python3.11/site-packages (from jinja2->torch->-r Explainable-techniques/Assignment-5/requirements.txt (line 10)) (2.1.1)\n",
            "Requirement already satisfied: llvmlite<0.42,>=0.41.0dev0 in /Users/akalpitdawkhar/anaconda3/lib/python3.11/site-packages (from numba->shap->-r Explainable-techniques/Assignment-5/requirements.txt (line 7)) (0.41.0)\n",
            "Requirement already satisfied: mpmath>=0.19 in /Users/akalpitdawkhar/anaconda3/lib/python3.11/site-packages (from sympy->torch->-r Explainable-techniques/Assignment-5/requirements.txt (line 10)) (1.3.0)\n",
            "Requirement already satisfied: language-data>=1.2 in /Users/akalpitdawkhar/anaconda3/lib/python3.11/site-packages (from langcodes<4.0.0,>=3.2.0->spacy->anchor-exp->-r Explainable-techniques/Assignment-5/requirements.txt (line 6)) (1.2.0)\n",
            "Requirement already satisfied: confection<1.0.0,>=0.0.1 in /Users/akalpitdawkhar/anaconda3/lib/python3.11/site-packages (from thinc<8.3.0,>=8.2.2->spacy->anchor-exp->-r Explainable-techniques/Assignment-5/requirements.txt (line 6)) (0.1.5)\n",
            "Requirement already satisfied: click>=8.0.0 in /Users/akalpitdawkhar/anaconda3/lib/python3.11/site-packages (from typer<1.0.0,>=0.3.0->spacy->anchor-exp->-r Explainable-techniques/Assignment-5/requirements.txt (line 6)) (8.1.7)\n",
            "Requirement already satisfied: shellingham>=1.3.0 in /Users/akalpitdawkhar/anaconda3/lib/python3.11/site-packages (from typer<1.0.0,>=0.3.0->spacy->anchor-exp->-r Explainable-techniques/Assignment-5/requirements.txt (line 6)) (1.5.4)\n",
            "Requirement already satisfied: markdown-it-py<3.0.0,>=2.2.0 in /Users/akalpitdawkhar/anaconda3/lib/python3.11/site-packages (from rich->keras>=3.2.0->tensorflow->-r Explainable-techniques/Assignment-5/requirements.txt (line 15)) (2.2.0)\n",
            "Requirement already satisfied: pygments<3.0.0,>=2.13.0 in /Users/akalpitdawkhar/anaconda3/lib/python3.11/site-packages (from rich->keras>=3.2.0->tensorflow->-r Explainable-techniques/Assignment-5/requirements.txt (line 15)) (2.15.1)\n",
            "Requirement already satisfied: cloudpathlib<1.0.0,>=0.7.0 in /Users/akalpitdawkhar/anaconda3/lib/python3.11/site-packages (from weasel<0.5.0,>=0.1.0->spacy->anchor-exp->-r Explainable-techniques/Assignment-5/requirements.txt (line 6)) (0.19.0)\n",
            "Requirement already satisfied: smart-open<8.0.0,>=5.2.1 in /Users/akalpitdawkhar/anaconda3/lib/python3.11/site-packages (from weasel<0.5.0,>=0.1.0->spacy->anchor-exp->-r Explainable-techniques/Assignment-5/requirements.txt (line 6)) (5.2.1)\n",
            "Requirement already satisfied: marisa-trie>=0.7.7 in /Users/akalpitdawkhar/anaconda3/lib/python3.11/site-packages (from language-data>=1.2->langcodes<4.0.0,>=3.2.0->spacy->anchor-exp->-r Explainable-techniques/Assignment-5/requirements.txt (line 6)) (1.2.0)\n",
            "Requirement already satisfied: mdurl~=0.1 in /Users/akalpitdawkhar/anaconda3/lib/python3.11/site-packages (from markdown-it-py<3.0.0,>=2.2.0->rich->keras>=3.2.0->tensorflow->-r Explainable-techniques/Assignment-5/requirements.txt (line 15)) (0.1.0)\n",
            "[Errno 2] No such file or directory: 'Explainable-techniques/Assignment-5/Assignment-5/'\n",
            "/Users/akalpitdawkhar/Desktop/School/SEM 3/XAI/Explainable-techniques/Assignment-5\n",
            "\u001b[34mExplainable-techniques\u001b[m\u001b[m/\n",
            "Explainable_Techniques_Assignment_05.ipynb\n",
            "Germanshepherd.jpg\n",
            "Keyboard.jpg\n",
            "Zebra-finch-Taeniopygia-guttata-bird.jpg\n",
            "output_image_resized.jpg\n",
            "requirements.txt\n"
          ]
        }
      ],
      "source": [
        "# Please use this to connect your GitHub repository to your Google Colab notebook\n",
        "# Connects to any needed files from GitHub and Google Drive\n",
        "import os\n",
        "\n",
        "# Remove Colab default sample_data\n",
        "!rm -r ./sample_data\n",
        "\n",
        "# Clone GitHub files to colab workspace\n",
        "repo_name = \"Explainable-techniques/Assignment-5/\" # Change to your repo name\n",
        "git_path = 'https://github.com/akalpit23/Explainable-techniques.git' #Change to your path\n",
        "!git clone \"{git_path}\"\n",
        "\n",
        "# Install dependencies from requirements.txt file'\n",
        "!pip install -r \"{os.path.join(repo_name,'requirements.txt')}\" #Add if using requirements.txt\n",
        "\n",
        "# Change working directory to location of notebook\n",
        "notebook_dir = 'Assignment-5/'\n",
        "path_to_notebook = os.path.join(repo_name,notebook_dir)\n",
        "%cd \"{path_to_notebook}\"\n",
        "%ls"
      ]
    },
    {
      "cell_type": "code",
      "execution_count": 2,
      "metadata": {
        "id": "2iiwPIbKOPWh"
      },
      "outputs": [
        {
          "name": "stderr",
          "output_type": "stream",
          "text": [
            "/Users/akalpitdawkhar/anaconda3/lib/python3.11/site-packages/transformers/utils/generic.py:260: FutureWarning: `torch.utils._pytree._register_pytree_node` is deprecated. Please use `torch.utils._pytree.register_pytree_node` instead.\n",
            "  torch.utils._pytree._register_pytree_node(\n"
          ]
        }
      ],
      "source": [
        "import pandas as pd\n",
        "import numpy as np\n",
        "import torch\n",
        "import xgboost as xgb\n",
        "import shap\n",
        "import lime\n",
        "import seaborn as sns\n",
        "import matplotlib.pyplot as plt\n",
        "import torch\n",
        "import torchvision.models as models\n",
        "import torchvision.transforms as transforms\n",
        "from torchvision.transforms import Compose, ToTensor, Normalize\n",
        "from lime import lime_image\n",
        "from sklearn.model_selection import train_test_split\n",
        "from anchor import anchor_tabular\n",
        "from sklearn.inspection import PartialDependenceDisplay\n",
        "from sklearn.metrics import accuracy_score, classification_report\n",
        "#from tensorflow.keras.datasets import cifar10\n",
        "from transformers import BertTokenizer, BertForSequenceClassification, pipeline\n",
        "from PIL import Image\n",
        "from skimage.segmentation import mark_boundaries\n",
        "from alibi.explainers import AnchorImage\n",
        "\n",
        "## Progress bar\n",
        "from tqdm.notebook import tqdm"
      ]
    },
    {
      "cell_type": "code",
      "execution_count": 3,
      "metadata": {
        "id": "BdA5-pbrOPWh"
      },
      "outputs": [
        {
          "name": "stderr",
          "output_type": "stream",
          "text": [
            "/Users/akalpitdawkhar/anaconda3/lib/python3.11/site-packages/torchvision/models/_utils.py:208: UserWarning: The parameter 'pretrained' is deprecated since 0.13 and may be removed in the future, please use 'weights' instead.\n",
            "  warnings.warn(\n",
            "/Users/akalpitdawkhar/anaconda3/lib/python3.11/site-packages/torchvision/models/_utils.py:223: UserWarning: Arguments other than a weight enum or `None` for 'weights' are deprecated since 0.13 and may be removed in the future. The current behavior is equivalent to passing `weights=ResNet34_Weights.IMAGENET1K_V1`. You can also use `weights=ResNet34_Weights.DEFAULT` to get the most up-to-date weights.\n",
            "  warnings.warn(msg)\n"
          ]
        },
        {
          "data": {
            "text/plain": [
              "ResNet(\n",
              "  (conv1): Conv2d(3, 64, kernel_size=(7, 7), stride=(2, 2), padding=(3, 3), bias=False)\n",
              "  (bn1): BatchNorm2d(64, eps=1e-05, momentum=0.1, affine=True, track_running_stats=True)\n",
              "  (relu): ReLU(inplace=True)\n",
              "  (maxpool): MaxPool2d(kernel_size=3, stride=2, padding=1, dilation=1, ceil_mode=False)\n",
              "  (layer1): Sequential(\n",
              "    (0): BasicBlock(\n",
              "      (conv1): Conv2d(64, 64, kernel_size=(3, 3), stride=(1, 1), padding=(1, 1), bias=False)\n",
              "      (bn1): BatchNorm2d(64, eps=1e-05, momentum=0.1, affine=True, track_running_stats=True)\n",
              "      (relu): ReLU(inplace=True)\n",
              "      (conv2): Conv2d(64, 64, kernel_size=(3, 3), stride=(1, 1), padding=(1, 1), bias=False)\n",
              "      (bn2): BatchNorm2d(64, eps=1e-05, momentum=0.1, affine=True, track_running_stats=True)\n",
              "    )\n",
              "    (1): BasicBlock(\n",
              "      (conv1): Conv2d(64, 64, kernel_size=(3, 3), stride=(1, 1), padding=(1, 1), bias=False)\n",
              "      (bn1): BatchNorm2d(64, eps=1e-05, momentum=0.1, affine=True, track_running_stats=True)\n",
              "      (relu): ReLU(inplace=True)\n",
              "      (conv2): Conv2d(64, 64, kernel_size=(3, 3), stride=(1, 1), padding=(1, 1), bias=False)\n",
              "      (bn2): BatchNorm2d(64, eps=1e-05, momentum=0.1, affine=True, track_running_stats=True)\n",
              "    )\n",
              "    (2): BasicBlock(\n",
              "      (conv1): Conv2d(64, 64, kernel_size=(3, 3), stride=(1, 1), padding=(1, 1), bias=False)\n",
              "      (bn1): BatchNorm2d(64, eps=1e-05, momentum=0.1, affine=True, track_running_stats=True)\n",
              "      (relu): ReLU(inplace=True)\n",
              "      (conv2): Conv2d(64, 64, kernel_size=(3, 3), stride=(1, 1), padding=(1, 1), bias=False)\n",
              "      (bn2): BatchNorm2d(64, eps=1e-05, momentum=0.1, affine=True, track_running_stats=True)\n",
              "    )\n",
              "  )\n",
              "  (layer2): Sequential(\n",
              "    (0): BasicBlock(\n",
              "      (conv1): Conv2d(64, 128, kernel_size=(3, 3), stride=(2, 2), padding=(1, 1), bias=False)\n",
              "      (bn1): BatchNorm2d(128, eps=1e-05, momentum=0.1, affine=True, track_running_stats=True)\n",
              "      (relu): ReLU(inplace=True)\n",
              "      (conv2): Conv2d(128, 128, kernel_size=(3, 3), stride=(1, 1), padding=(1, 1), bias=False)\n",
              "      (bn2): BatchNorm2d(128, eps=1e-05, momentum=0.1, affine=True, track_running_stats=True)\n",
              "      (downsample): Sequential(\n",
              "        (0): Conv2d(64, 128, kernel_size=(1, 1), stride=(2, 2), bias=False)\n",
              "        (1): BatchNorm2d(128, eps=1e-05, momentum=0.1, affine=True, track_running_stats=True)\n",
              "      )\n",
              "    )\n",
              "    (1): BasicBlock(\n",
              "      (conv1): Conv2d(128, 128, kernel_size=(3, 3), stride=(1, 1), padding=(1, 1), bias=False)\n",
              "      (bn1): BatchNorm2d(128, eps=1e-05, momentum=0.1, affine=True, track_running_stats=True)\n",
              "      (relu): ReLU(inplace=True)\n",
              "      (conv2): Conv2d(128, 128, kernel_size=(3, 3), stride=(1, 1), padding=(1, 1), bias=False)\n",
              "      (bn2): BatchNorm2d(128, eps=1e-05, momentum=0.1, affine=True, track_running_stats=True)\n",
              "    )\n",
              "    (2): BasicBlock(\n",
              "      (conv1): Conv2d(128, 128, kernel_size=(3, 3), stride=(1, 1), padding=(1, 1), bias=False)\n",
              "      (bn1): BatchNorm2d(128, eps=1e-05, momentum=0.1, affine=True, track_running_stats=True)\n",
              "      (relu): ReLU(inplace=True)\n",
              "      (conv2): Conv2d(128, 128, kernel_size=(3, 3), stride=(1, 1), padding=(1, 1), bias=False)\n",
              "      (bn2): BatchNorm2d(128, eps=1e-05, momentum=0.1, affine=True, track_running_stats=True)\n",
              "    )\n",
              "    (3): BasicBlock(\n",
              "      (conv1): Conv2d(128, 128, kernel_size=(3, 3), stride=(1, 1), padding=(1, 1), bias=False)\n",
              "      (bn1): BatchNorm2d(128, eps=1e-05, momentum=0.1, affine=True, track_running_stats=True)\n",
              "      (relu): ReLU(inplace=True)\n",
              "      (conv2): Conv2d(128, 128, kernel_size=(3, 3), stride=(1, 1), padding=(1, 1), bias=False)\n",
              "      (bn2): BatchNorm2d(128, eps=1e-05, momentum=0.1, affine=True, track_running_stats=True)\n",
              "    )\n",
              "  )\n",
              "  (layer3): Sequential(\n",
              "    (0): BasicBlock(\n",
              "      (conv1): Conv2d(128, 256, kernel_size=(3, 3), stride=(2, 2), padding=(1, 1), bias=False)\n",
              "      (bn1): BatchNorm2d(256, eps=1e-05, momentum=0.1, affine=True, track_running_stats=True)\n",
              "      (relu): ReLU(inplace=True)\n",
              "      (conv2): Conv2d(256, 256, kernel_size=(3, 3), stride=(1, 1), padding=(1, 1), bias=False)\n",
              "      (bn2): BatchNorm2d(256, eps=1e-05, momentum=0.1, affine=True, track_running_stats=True)\n",
              "      (downsample): Sequential(\n",
              "        (0): Conv2d(128, 256, kernel_size=(1, 1), stride=(2, 2), bias=False)\n",
              "        (1): BatchNorm2d(256, eps=1e-05, momentum=0.1, affine=True, track_running_stats=True)\n",
              "      )\n",
              "    )\n",
              "    (1): BasicBlock(\n",
              "      (conv1): Conv2d(256, 256, kernel_size=(3, 3), stride=(1, 1), padding=(1, 1), bias=False)\n",
              "      (bn1): BatchNorm2d(256, eps=1e-05, momentum=0.1, affine=True, track_running_stats=True)\n",
              "      (relu): ReLU(inplace=True)\n",
              "      (conv2): Conv2d(256, 256, kernel_size=(3, 3), stride=(1, 1), padding=(1, 1), bias=False)\n",
              "      (bn2): BatchNorm2d(256, eps=1e-05, momentum=0.1, affine=True, track_running_stats=True)\n",
              "    )\n",
              "    (2): BasicBlock(\n",
              "      (conv1): Conv2d(256, 256, kernel_size=(3, 3), stride=(1, 1), padding=(1, 1), bias=False)\n",
              "      (bn1): BatchNorm2d(256, eps=1e-05, momentum=0.1, affine=True, track_running_stats=True)\n",
              "      (relu): ReLU(inplace=True)\n",
              "      (conv2): Conv2d(256, 256, kernel_size=(3, 3), stride=(1, 1), padding=(1, 1), bias=False)\n",
              "      (bn2): BatchNorm2d(256, eps=1e-05, momentum=0.1, affine=True, track_running_stats=True)\n",
              "    )\n",
              "    (3): BasicBlock(\n",
              "      (conv1): Conv2d(256, 256, kernel_size=(3, 3), stride=(1, 1), padding=(1, 1), bias=False)\n",
              "      (bn1): BatchNorm2d(256, eps=1e-05, momentum=0.1, affine=True, track_running_stats=True)\n",
              "      (relu): ReLU(inplace=True)\n",
              "      (conv2): Conv2d(256, 256, kernel_size=(3, 3), stride=(1, 1), padding=(1, 1), bias=False)\n",
              "      (bn2): BatchNorm2d(256, eps=1e-05, momentum=0.1, affine=True, track_running_stats=True)\n",
              "    )\n",
              "    (4): BasicBlock(\n",
              "      (conv1): Conv2d(256, 256, kernel_size=(3, 3), stride=(1, 1), padding=(1, 1), bias=False)\n",
              "      (bn1): BatchNorm2d(256, eps=1e-05, momentum=0.1, affine=True, track_running_stats=True)\n",
              "      (relu): ReLU(inplace=True)\n",
              "      (conv2): Conv2d(256, 256, kernel_size=(3, 3), stride=(1, 1), padding=(1, 1), bias=False)\n",
              "      (bn2): BatchNorm2d(256, eps=1e-05, momentum=0.1, affine=True, track_running_stats=True)\n",
              "    )\n",
              "    (5): BasicBlock(\n",
              "      (conv1): Conv2d(256, 256, kernel_size=(3, 3), stride=(1, 1), padding=(1, 1), bias=False)\n",
              "      (bn1): BatchNorm2d(256, eps=1e-05, momentum=0.1, affine=True, track_running_stats=True)\n",
              "      (relu): ReLU(inplace=True)\n",
              "      (conv2): Conv2d(256, 256, kernel_size=(3, 3), stride=(1, 1), padding=(1, 1), bias=False)\n",
              "      (bn2): BatchNorm2d(256, eps=1e-05, momentum=0.1, affine=True, track_running_stats=True)\n",
              "    )\n",
              "  )\n",
              "  (layer4): Sequential(\n",
              "    (0): BasicBlock(\n",
              "      (conv1): Conv2d(256, 512, kernel_size=(3, 3), stride=(2, 2), padding=(1, 1), bias=False)\n",
              "      (bn1): BatchNorm2d(512, eps=1e-05, momentum=0.1, affine=True, track_running_stats=True)\n",
              "      (relu): ReLU(inplace=True)\n",
              "      (conv2): Conv2d(512, 512, kernel_size=(3, 3), stride=(1, 1), padding=(1, 1), bias=False)\n",
              "      (bn2): BatchNorm2d(512, eps=1e-05, momentum=0.1, affine=True, track_running_stats=True)\n",
              "      (downsample): Sequential(\n",
              "        (0): Conv2d(256, 512, kernel_size=(1, 1), stride=(2, 2), bias=False)\n",
              "        (1): BatchNorm2d(512, eps=1e-05, momentum=0.1, affine=True, track_running_stats=True)\n",
              "      )\n",
              "    )\n",
              "    (1): BasicBlock(\n",
              "      (conv1): Conv2d(512, 512, kernel_size=(3, 3), stride=(1, 1), padding=(1, 1), bias=False)\n",
              "      (bn1): BatchNorm2d(512, eps=1e-05, momentum=0.1, affine=True, track_running_stats=True)\n",
              "      (relu): ReLU(inplace=True)\n",
              "      (conv2): Conv2d(512, 512, kernel_size=(3, 3), stride=(1, 1), padding=(1, 1), bias=False)\n",
              "      (bn2): BatchNorm2d(512, eps=1e-05, momentum=0.1, affine=True, track_running_stats=True)\n",
              "    )\n",
              "    (2): BasicBlock(\n",
              "      (conv1): Conv2d(512, 512, kernel_size=(3, 3), stride=(1, 1), padding=(1, 1), bias=False)\n",
              "      (bn1): BatchNorm2d(512, eps=1e-05, momentum=0.1, affine=True, track_running_stats=True)\n",
              "      (relu): ReLU(inplace=True)\n",
              "      (conv2): Conv2d(512, 512, kernel_size=(3, 3), stride=(1, 1), padding=(1, 1), bias=False)\n",
              "      (bn2): BatchNorm2d(512, eps=1e-05, momentum=0.1, affine=True, track_running_stats=True)\n",
              "    )\n",
              "  )\n",
              "  (avgpool): AdaptiveAvgPool2d(output_size=(1, 1))\n",
              "  (fc): Linear(in_features=512, out_features=1000, bias=True)\n",
              ")"
            ]
          },
          "execution_count": 3,
          "metadata": {},
          "output_type": "execute_result"
        }
      ],
      "source": [
        "# Load pre-trained ResNet34 model\n",
        "model = models.resnet34(pretrained=True)\n",
        "model.eval()"
      ]
    },
    {
      "cell_type": "code",
      "execution_count": 4,
      "metadata": {
        "id": "ndi_EK8lOPWh"
      },
      "outputs": [],
      "source": [
        "# 3. Define image preprocessing steps (resize, normalize)\n",
        "preprocess = transforms.Compose([\n",
        "    transforms.Resize(256),\n",
        "    transforms.CenterCrop(224),\n",
        "    transforms.ToTensor(),\n",
        "    transforms.Normalize(mean=[0.485, 0.456, 0.406], std=[0.229, 0.224, 0.225])\n",
        "])"
      ]
    },
    {
      "cell_type": "code",
      "execution_count": 7,
      "metadata": {
        "id": "AZDQqPWrOPWi"
      },
      "outputs": [],
      "source": [
        "# Load and preprocess the image\n",
        "image_path = \"Keyboard.jpg\"\n",
        "# image_path = \"GermanShepherd.jpg\"\n",
        "# image_path = \"Zebra-finch-Taeniopygia-guttata-bird.jpg\"\n",
        "image = Image.open(image_path).convert('RGB')\n",
        "\n",
        "# Resize image to 50% of its original dimensions\n",
        "# new_width = image.width // 2\n",
        "# new_height = image.height // 2\n",
        "# img_resized = image.resize((new_width, new_height))\n",
        "\n",
        "# Save the resized image\n",
        "# img_resized.save('output_image_resized.jpg', quality=90)\n",
        "\n",
        "input_tensor = preprocess(image).unsqueeze(0)\n"
      ]
    },
    {
      "cell_type": "code",
      "execution_count": 8,
      "metadata": {},
      "outputs": [
        {
          "data": {
            "text/plain": [
              "torch.Size([1, 3, 224, 224])"
            ]
          },
          "execution_count": 8,
          "metadata": {},
          "output_type": "execute_result"
        }
      ],
      "source": [
        "input_tensor.shape"
      ]
    },
    {
      "cell_type": "code",
      "execution_count": 9,
      "metadata": {},
      "outputs": [],
      "source": [
        "# 5. Predict with the model\n",
        "output = model(input_tensor)\n",
        "_, pred_class = torch.max(output, 1)"
      ]
    },
    {
      "cell_type": "code",
      "execution_count": 10,
      "metadata": {
        "id": "3nh2BFk1OPWi"
      },
      "outputs": [],
      "source": [
        "# 6. Define the LIME explainer\n",
        "explainer = lime_image.LimeImageExplainer()\n",
        "\n",
        "# 7. Function to predict the output of perturbed images for LIME\n",
        "def predict_fn(images):\n",
        "    batch = torch.stack([preprocess(Image.fromarray(img)) for img in images])\n",
        "    output = model(batch)\n",
        "    return output.detach().numpy()"
      ]
    },
    {
      "cell_type": "code",
      "execution_count": 11,
      "metadata": {
        "id": "6AA0-AA8OPWi"
      },
      "outputs": [
        {
          "data": {
            "application/vnd.jupyter.widget-view+json": {
              "model_id": "3786178a1dd848db954c669d74255f26",
              "version_major": 2,
              "version_minor": 0
            },
            "text/plain": [
              "  0%|          | 0/1000 [00:00<?, ?it/s]"
            ]
          },
          "metadata": {},
          "output_type": "display_data"
        },
        {
          "ename": "KeyboardInterrupt",
          "evalue": "",
          "output_type": "error",
          "traceback": [
            "\u001b[0;31m---------------------------------------------------------------------------\u001b[0m",
            "\u001b[0;31mKeyboardInterrupt\u001b[0m                         Traceback (most recent call last)",
            "\u001b[1;32m/Users/akalpitdawkhar/Desktop/School/SEM 3/XAI/Explainable-techniques/Assignment-5/Explainable_Techniques_Assignment_05.ipynb Cell 11\u001b[0m line \u001b[0;36m2\n\u001b[1;32m      <a href='vscode-notebook-cell:/Users/akalpitdawkhar/Desktop/School/SEM%203/XAI/Explainable-techniques/Assignment-5/Explainable_Techniques_Assignment_05.ipynb#X12sZmlsZQ%3D%3D?line=0'>1</a>\u001b[0m \u001b[39m# 8. Generate explanations for the prediction\u001b[39;00m\n\u001b[0;32m----> <a href='vscode-notebook-cell:/Users/akalpitdawkhar/Desktop/School/SEM%203/XAI/Explainable-techniques/Assignment-5/Explainable_Techniques_Assignment_05.ipynb#X12sZmlsZQ%3D%3D?line=1'>2</a>\u001b[0m explanation \u001b[39m=\u001b[39m explainer\u001b[39m.\u001b[39mexplain_instance(np\u001b[39m.\u001b[39marray(image), predict_fn, top_labels\u001b[39m=\u001b[39m\u001b[39m1\u001b[39m, hide_color\u001b[39m=\u001b[39m\u001b[39m0\u001b[39m, num_samples\u001b[39m=\u001b[39m\u001b[39m1000\u001b[39m)\n",
            "File \u001b[0;32m~/anaconda3/lib/python3.11/site-packages/lime/lime_image.py:198\u001b[0m, in \u001b[0;36mLimeImageExplainer.explain_instance\u001b[0;34m(self, image, classifier_fn, labels, hide_color, top_labels, num_features, num_samples, batch_size, segmentation_fn, distance_metric, model_regressor, random_seed)\u001b[0m\n\u001b[1;32m    194\u001b[0m     fudged_image[:] \u001b[39m=\u001b[39m hide_color\n\u001b[1;32m    196\u001b[0m top \u001b[39m=\u001b[39m labels\n\u001b[0;32m--> 198\u001b[0m data, labels \u001b[39m=\u001b[39m \u001b[39mself\u001b[39m\u001b[39m.\u001b[39mdata_labels(image, fudged_image, segments,\n\u001b[1;32m    199\u001b[0m                                 classifier_fn, num_samples,\n\u001b[1;32m    200\u001b[0m                                 batch_size\u001b[39m=\u001b[39mbatch_size)\n\u001b[1;32m    202\u001b[0m distances \u001b[39m=\u001b[39m sklearn\u001b[39m.\u001b[39mmetrics\u001b[39m.\u001b[39mpairwise_distances(\n\u001b[1;32m    203\u001b[0m     data,\n\u001b[1;32m    204\u001b[0m     data[\u001b[39m0\u001b[39m]\u001b[39m.\u001b[39mreshape(\u001b[39m1\u001b[39m, \u001b[39m-\u001b[39m\u001b[39m1\u001b[39m),\n\u001b[1;32m    205\u001b[0m     metric\u001b[39m=\u001b[39mdistance_metric\n\u001b[1;32m    206\u001b[0m )\u001b[39m.\u001b[39mravel()\n\u001b[1;32m    208\u001b[0m ret_exp \u001b[39m=\u001b[39m ImageExplanation(image, segments)\n",
            "File \u001b[0;32m~/anaconda3/lib/python3.11/site-packages/lime/lime_image.py:257\u001b[0m, in \u001b[0;36mLimeImageExplainer.data_labels\u001b[0;34m(self, image, fudged_image, segments, classifier_fn, num_samples, batch_size)\u001b[0m\n\u001b[1;32m    255\u001b[0m mask \u001b[39m=\u001b[39m np\u001b[39m.\u001b[39mzeros(segments\u001b[39m.\u001b[39mshape)\u001b[39m.\u001b[39mastype(\u001b[39mbool\u001b[39m)\n\u001b[1;32m    256\u001b[0m \u001b[39mfor\u001b[39;00m z \u001b[39min\u001b[39;00m zeros:\n\u001b[0;32m--> 257\u001b[0m     mask[segments \u001b[39m==\u001b[39m z] \u001b[39m=\u001b[39m \u001b[39mTrue\u001b[39;00m\n\u001b[1;32m    258\u001b[0m temp[mask] \u001b[39m=\u001b[39m fudged_image[mask]\n\u001b[1;32m    259\u001b[0m imgs\u001b[39m.\u001b[39mappend(temp)\n",
            "\u001b[0;31mKeyboardInterrupt\u001b[0m: "
          ]
        }
      ],
      "source": [
        "# 8. Generate explanations for the prediction\n",
        "explanation = explainer.explain_instance(np.array(image), predict_fn, top_labels=1, hide_color=0, num_samples=1000)"
      ]
    },
    {
      "cell_type": "code",
      "execution_count": null,
      "metadata": {
        "id": "yJ86B_M7OPWi"
      },
      "outputs": [],
      "source": [
        "# 9. Visualize the explanation\n",
        "\n",
        "# Get the top predicted label from the explanation\n",
        "top_label = explanation.top_labels[0]\n",
        "\n",
        "# First visualization: Show explanation with positive_only=False, num_features=10, hide_rest=False\n",
        "temp, mask = explanation.get_image_and_mask(top_label, positive_only=False, num_features=10, hide_rest=False)\n",
        "plt.imshow(mark_boundaries(temp / 2 + 0.5, mask))  # Visualize the mask on the image\n",
        "plt.axis('off')\n",
        "plt.show()\n",
        "\n",
        "# Second visualization: Show explanation with positive_only=True, num_features=5, hide_rest=True\n",
        "temp, mask = explanation.get_image_and_mask(top_label, positive_only=True, num_features=5, hide_rest=True)\n",
        "plt.imshow(mark_boundaries(temp / 2 + 0.5, mask))  # Visualize the mask on the image\n",
        "plt.axis('off')\n",
        "plt.show()\n",
        "\n",
        "# Original visualization: Show explanation with positive_only=True, num_features=5, hide_rest=False\n",
        "temp, mask = explanation.get_image_and_mask(top_label, positive_only=True, num_features=5, hide_rest=False)\n",
        "plt.imshow(mark_boundaries(temp / 255.0, mask))  # Visualize the mask on the image\n",
        "plt.axis('off')\n",
        "plt.show()"
      ]
    },
    {
      "cell_type": "code",
      "execution_count": null,
      "metadata": {
        "id": "WKMIAVpUOPWi"
      },
      "outputs": [],
      "source": [
        "from torchvision import transforms\n",
        "\n",
        "# Define your transform\n",
        "transform = transforms.Compose([\n",
        "    transforms.Resize((224, 224)),  # Resize the image to 224x224 pixels\n",
        "    transforms.ToTensor(),  # Convert the image to PyTorch Tensor data type\n",
        "    # Add any other transformations you need\n",
        "])\n",
        "\n",
        "pil_image = Image.open(image_path).convert(\"RGB\")  # Load and convert image to RGB\n",
        "image_tensor = transform(pil_image).unsqueeze(0)"
      ]
    },
    {
      "cell_type": "code",
      "execution_count": null,
      "metadata": {
        "id": "_EASKVU7OPWi"
      },
      "outputs": [],
      "source": [
        "def predict_anchor(images):\n",
        "    batch = torch.stack([preprocess(Image.fromarray(img.astype(np.uint8))) for img in images])\n",
        "    output = model(batch)\n",
        "    return output.detach().numpy()  # Convert PyTorch tensor to numpy array"
      ]
    },
    {
      "cell_type": "code",
      "execution_count": null,
      "metadata": {
        "id": "MUD4x2d-OPWi"
      },
      "outputs": [],
      "source": [
        "# Initialize the AnchorImage explainer\n",
        "segmentation_fn = 'slic'\n",
        "kwargs = {'n_segments': 15, 'compactness': 20, 'sigma': .5}  # Adjust segmentation parameters as needed\n",
        "explainer = AnchorImage(predict_anchor, image_shape=(224, 224, 3), segmentation_fn=segmentation_fn,\n",
        "                        segmentation_kwargs=kwargs)\n",
        "\n",
        "# Explain the prediction for the input image (provide the image as a numpy array)\n",
        "np_image = np.array(pil_image)\n",
        "explanation = explainer.explain(np_image, threshold=0.95)\n",
        "\n",
        "# Visualize the anchor\n",
        "plt.imshow(explanation.anchor)\n",
        "plt.title(\"Anchor Visualization\")\n",
        "plt.axis('off')  # Turn off axis\n",
        "plt.show()\n",
        "\n",
        "# Visualize the superpixels\n",
        "plt.imshow(explanation.segments)\n",
        "plt.title(\"Superpixels/Segments Visualization\")\n",
        "plt.axis('off')  # Turn off axis\n",
        "plt.show()"
      ]
    },
    {
      "cell_type": "code",
      "execution_count": null,
      "metadata": {
        "id": "UrWAEygUOPWj"
      },
      "outputs": [],
      "source": [
        "import torch\n",
        "from torchvision.models import resnet34\n",
        "from pytorch_grad_cam import GradCAM, HiResCAM, ScoreCAM, GradCAMPlusPlus, AblationCAM, XGradCAM, EigenCAM, FullGrad\n",
        "from pytorch_grad_cam.utils.model_targets import ClassifierOutputTarget\n",
        "from pytorch_grad_cam.utils.image import show_cam_on_image\n",
        "from torchvision.transforms import Compose, Normalize, ToTensor\n",
        "from PIL import Image\n",
        "import numpy as np\n",
        "\n",
        "# Define target layers (usually the last convolutional layer)\n",
        "target_layers = [model.layer4[-1]]\n",
        "\n",
        "\n",
        "\n",
        "cam = GradCAM(model=model, target_layers=target_layers)\n",
        "\n",
        "\n",
        "# Define the target (e.g., class index 281 for 'tabby cat' in ImageNet)\n",
        "targets = [ClassifierOutputTarget(281)]\n",
        "\n",
        "# Generate the CAM\n",
        "grayscale_cam = cam(input_tensor=input_tensor, targets=targets)\n",
        "\n",
        "# Visualize the result\n",
        "rgb_img = np.array(image)\n",
        "visualization = show_cam_on_image(rgb_img/255.0, grayscale_cam[0], use_rgb=True)\n",
        "\n",
        "# Display or save the visualization\n",
        "import matplotlib.pyplot as plt\n",
        "plt.imshow(visualization)\n",
        "plt.axis('off')\n",
        "plt.show()\n"
      ]
    },
    {
      "cell_type": "code",
      "execution_count": null,
      "metadata": {},
      "outputs": [],
      "source": []
    },
    {
      "cell_type": "code",
      "execution_count": null,
      "metadata": {},
      "outputs": [],
      "source": []
    },
    {
      "cell_type": "code",
      "execution_count": null,
      "metadata": {},
      "outputs": [],
      "source": []
    },
    {
      "cell_type": "code",
      "execution_count": null,
      "metadata": {},
      "outputs": [],
      "source": []
    },
    {
      "cell_type": "code",
      "execution_count": null,
      "metadata": {},
      "outputs": [],
      "source": []
    },
    {
      "cell_type": "code",
      "execution_count": null,
      "metadata": {},
      "outputs": [],
      "source": []
    },
    {
      "cell_type": "code",
      "execution_count": null,
      "metadata": {},
      "outputs": [],
      "source": [
        "import tensorflow as tf\n",
        "\n",
        "# List available GPUs\n",
        "gpus = tf.config.list_physical_devices('GPU')\n",
        "if gpus:\n",
        "    print(f\"GPUs Available: {len(gpus)}\")\n",
        "    for gpu in gpus:\n",
        "        print(f\"  - {gpu.name}\")\n",
        "else:\n",
        "    print(\"No GPUs found. Using CPU instead.\")"
      ]
    },
    {
      "cell_type": "code",
      "execution_count": null,
      "metadata": {},
      "outputs": [],
      "source": [
        "import tensorflow as tf\n",
        "\n",
        "print(\"TensorFlow version:\", tf.__version__)\n",
        "print(\"Num GPUs Available: \", len(tf.config.list_physical_devices('GPU')))\n",
        "for gpu in tf.config.list_physical_devices('GPU'):\n",
        "    print(gpu)"
      ]
    },
    {
      "cell_type": "code",
      "execution_count": null,
      "metadata": {},
      "outputs": [],
      "source": [
        "hello"
      ]
    }
  ],
  "metadata": {
    "colab": {
      "include_colab_link": true,
      "provenance": []
    },
    "kernelspec": {
      "display_name": "base",
      "language": "python",
      "name": "python3"
    },
    "language_info": {
      "codemirror_mode": {
        "name": "ipython",
        "version": 3
      },
      "file_extension": ".py",
      "mimetype": "text/x-python",
      "name": "python",
      "nbconvert_exporter": "python",
      "pygments_lexer": "ipython3",
      "version": "3.11.5"
    }
  },
  "nbformat": 4,
  "nbformat_minor": 0
}
