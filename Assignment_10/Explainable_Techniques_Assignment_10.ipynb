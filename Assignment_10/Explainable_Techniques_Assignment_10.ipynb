{
  "nbformat": 4,
  "nbformat_minor": 0,
  "metadata": {
    "colab": {
      "provenance": [],
      "authorship_tag": "ABX9TyMVMnTmxjTjlsH36Bfo2yf9",
      "include_colab_link": true
    },
    "kernelspec": {
      "name": "python3",
      "display_name": "Python 3"
    },
    "language_info": {
      "name": "python"
    }
  },
  "cells": [
    {
      "cell_type": "markdown",
      "metadata": {
        "id": "view-in-github",
        "colab_type": "text"
      },
      "source": [
        "<a href=\"https://colab.research.google.com/github/akalpit23/Explainable-techniques/blob/main/Assignment_10/Explainable_Techniques_Assignment_10.ipynb\" target=\"_parent\"><img src=\"https://colab.research.google.com/assets/colab-badge.svg\" alt=\"Open In Colab\"/></a>"
      ]
    },
    {
      "cell_type": "markdown",
      "source": [
        "# AIPI 590 - XAI | Assignment #10\n",
        "\n",
        "\n",
        "\n",
        "## Akalpit Dawkhar\n",
        "\n",
        "### **Human-AI Interaction**"
      ],
      "metadata": {
        "id": "9r-ajE6LNFGm"
      }
    },
    {
      "cell_type": "code",
      "source": [
        "# Please use this to connect your GitHub repository to your Google Colab notebook\n",
        "# Connects to any needed files from GitHub and Google Drive\n",
        "import os\n",
        "\n",
        "# Remove Colab default sample_data\n",
        "!rm -r ./sample_data\n",
        "\n",
        "# Clone GitHub files to colab workspace\n",
        "repo_name = \"Explainable-techniques/Assignment-5/\" # Change to your repo name\n",
        "git_path = 'https://github.com/akalpit23/Explainable-techniques.git' #Change to your path\n",
        "!git clone \"{git_path}\"\n",
        "\n",
        "# Install dependencies from requirements.txt file'\n",
        "!pip install -q -r \"{os.path.join(repo_name,'requirements.txt')}\" #Add if using requirements.txt\n",
        "\n",
        "# Change working directory to location of notebook\n",
        "notebook_dir = 'Assignment-5/'\n",
        "path_to_notebook = os.path.join(repo_name,notebook_dir)\n",
        "%cd \"{path_to_notebook}\"\n",
        "%ls"
      ],
      "metadata": {
        "colab": {
          "base_uri": "https://localhost:8080/"
        },
        "id": "nDSGPHfEDQl6",
        "outputId": "9f797f95-bd70-4d75-baaa-0ff703b76849"
      },
      "execution_count": null,
      "outputs": [
        {
          "output_type": "stream",
          "name": "stdout",
          "text": [
            "Cloning into 'Explainable-techniques'...\n",
            "remote: Enumerating objects: 296, done.\u001b[K\n",
            "remote: Counting objects: 100% (97/97), done.\u001b[K\n",
            "remote: Compressing objects: 100% (82/82), done.\u001b[K\n",
            "remote: Total 296 (delta 45), reused 31 (delta 12), pack-reused 199 (from 1)\u001b[K\n",
            "Receiving objects: 100% (296/296), 9.86 MiB | 26.71 MiB/s, done.\n",
            "Resolving deltas: 100% (146/146), done.\n",
            "\u001b[2K     \u001b[90m━━━━━━━━━━━━━━━━━━━━━━━━━━━━━━━━━━━━━━━━\u001b[0m \u001b[32m275.7/275.7 kB\u001b[0m \u001b[31m8.6 MB/s\u001b[0m eta \u001b[36m0:00:00\u001b[0m\n",
            "\u001b[?25h  Preparing metadata (setup.py) ... \u001b[?25l\u001b[?25hdone\n",
            "\u001b[2K     \u001b[90m━━━━━━━━━━━━━━━━━━━━━━━━━━━━━━━━━━━━━━━━\u001b[0m \u001b[32m427.3/427.3 kB\u001b[0m \u001b[31m9.6 MB/s\u001b[0m eta \u001b[36m0:00:00\u001b[0m\n",
            "\u001b[?25h  Preparing metadata (setup.py) ... \u001b[?25l\u001b[?25hdone\n",
            "\u001b[2K     \u001b[90m━━━━━━━━━━━━━━━━━━━━━━━━━━━━━━━━━━━━━━━━\u001b[0m \u001b[32m7.8/7.8 MB\u001b[0m \u001b[31m34.1 MB/s\u001b[0m eta \u001b[36m0:00:00\u001b[0m\n",
            "\u001b[?25h  Installing build dependencies ... \u001b[?25l\u001b[?25hdone\n",
            "  Getting requirements to build wheel ... \u001b[?25l\u001b[?25hdone\n",
            "  Preparing metadata (pyproject.toml) ... \u001b[?25l\u001b[?25hdone\n",
            "\u001b[2K   \u001b[90m━━━━━━━━━━━━━━━━━━━━━━━━━━━━━━━━━━━━━━━━\u001b[0m \u001b[32m1.7/1.7 MB\u001b[0m \u001b[31m22.0 MB/s\u001b[0m eta \u001b[36m0:00:00\u001b[0m\n",
            "\u001b[2K   \u001b[90m━━━━━━━━━━━━━━━━━━━━━━━━━━━━━━━━━━━━━━━━\u001b[0m \u001b[32m522.1/522.1 kB\u001b[0m \u001b[31m22.2 MB/s\u001b[0m eta \u001b[36m0:00:00\u001b[0m\n",
            "\u001b[2K   \u001b[90m━━━━━━━━━━━━━━━━━━━━━━━━━━━━━━━━━━━━━━━━\u001b[0m \u001b[32m4.5/4.5 MB\u001b[0m \u001b[31m50.0 MB/s\u001b[0m eta \u001b[36m0:00:00\u001b[0m\n",
            "\u001b[2K   \u001b[90m━━━━━━━━━━━━━━━━━━━━━━━━━━━━━━━━━━━━━━━━\u001b[0m \u001b[32m60.8/60.8 kB\u001b[0m \u001b[31m3.8 MB/s\u001b[0m eta \u001b[36m0:00:00\u001b[0m\n",
            "\u001b[2K   \u001b[90m━━━━━━━━━━━━━━━━━━━━━━━━━━━━━━━━━━━━━━━━\u001b[0m \u001b[32m119.4/119.4 kB\u001b[0m \u001b[31m6.7 MB/s\u001b[0m eta \u001b[36m0:00:00\u001b[0m\n",
            "\u001b[2K   \u001b[90m━━━━━━━━━━━━━━━━━━━━━━━━━━━━━━━━━━━━━━━━\u001b[0m \u001b[32m14.7/14.7 MB\u001b[0m \u001b[31m41.2 MB/s\u001b[0m eta \u001b[36m0:00:00\u001b[0m\n",
            "\u001b[2K   \u001b[90m━━━━━━━━━━━━━━━━━━━━━━━━━━━━━━━━━━━━━━━━\u001b[0m \u001b[32m98.5/98.5 MB\u001b[0m \u001b[31m7.4 MB/s\u001b[0m eta \u001b[36m0:00:00\u001b[0m\n",
            "\u001b[?25h  Building wheel for lime (setup.py) ... \u001b[?25l\u001b[?25hdone\n",
            "  Building wheel for anchor-exp (setup.py) ... \u001b[?25l\u001b[?25hdone\n",
            "  Building wheel for grad-cam (pyproject.toml) ... \u001b[?25l\u001b[?25hdone\n",
            "[Errno 2] No such file or directory: 'Explainable-techniques/Assignment-5/Assignment-5/'\n",
            "/content\n",
            "\u001b[0m\u001b[01;34mExplainable-techniques\u001b[0m/\n"
          ]
        }
      ]
    },
    {
      "cell_type": "code",
      "source": [
        "import numpy as np\n",
        "import torch\n",
        "import matplotlib.pyplot as plt\n",
        "import torchvision.models as models\n",
        "import torchvision.transforms as transforms\n",
        "from PIL import Image\n",
        "from alibi.explainers import AnchorImage\n"
      ],
      "metadata": {
        "id": "6rqqHsTtCcIa"
      },
      "execution_count": null,
      "outputs": []
    },
    {
      "cell_type": "markdown",
      "source": [
        "#Step 1: Download the Sample Image"
      ],
      "metadata": {
        "id": "qlO5GeOYIdgB"
      }
    },
    {
      "cell_type": "code",
      "source": [
        "# We use a sample image from ImageNet for demonstration purposes.\n",
        "!wget https://raw.githubusercontent.com/EliSchwartz/imagenet-sample-images/master/n01532829_house_finch.JPEG -O /content/sample_image.jpg\n"
      ],
      "metadata": {
        "colab": {
          "base_uri": "https://localhost:8080/"
        },
        "id": "Uxqb1dwdChf6",
        "outputId": "35863fc9-a25c-4bd6-ed35-95f02dfe2da7"
      },
      "execution_count": null,
      "outputs": [
        {
          "output_type": "stream",
          "name": "stdout",
          "text": [
            "--2024-11-14 05:42:16--  https://raw.githubusercontent.com/EliSchwartz/imagenet-sample-images/master/n01532829_house_finch.JPEG\n",
            "Resolving raw.githubusercontent.com (raw.githubusercontent.com)... 185.199.108.133, 185.199.109.133, 185.199.110.133, ...\n",
            "Connecting to raw.githubusercontent.com (raw.githubusercontent.com)|185.199.108.133|:443... connected.\n",
            "HTTP request sent, awaiting response... 200 OK\n",
            "Length: 78014 (76K) [image/jpeg]\n",
            "Saving to: ‘/content/sample_image.jpg’\n",
            "\n",
            "\r          /content/   0%[                    ]       0  --.-KB/s               \r/content/sample_ima 100%[===================>]  76.19K  --.-KB/s    in 0.004s  \n",
            "\n",
            "2024-11-14 05:42:16 (17.4 MB/s) - ‘/content/sample_image.jpg’ saved [78014/78014]\n",
            "\n"
          ]
        }
      ]
    },
    {
      "cell_type": "markdown",
      "source": [
        "#Step 2: Load Pre-trained Model\n",
        "\n",
        "**Model Selection and Preprocessing**:\n",
        "   - We use a pre-trained ResNet34 model, which has been trained on millions of images to recognize various objects. This model helps us make complex decisions based on visual data, which can be invaluable in identifying objects and extracting insights from image data.\n",
        "   - The preprocessing steps (resizing, cropping, and normalization) are crucial to ensure that the input matches the format and scale that the model expects, leading to accurate predictions. This ensures that any differences between training and input images do not negatively impact model performance, which is critical for operational consistency.\n"
      ],
      "metadata": {
        "id": "PiQgzYHSIgmW"
      }
    },
    {
      "cell_type": "code",
      "source": [
        "# Load the pre-trained ResNet34 model from torchvision. This model has been trained on the ImageNet dataset, making it capable of recognizing a wide variety of objects.\n",
        "model = models.resnet34(pretrained=True)\n",
        "model.eval()"
      ],
      "metadata": {
        "colab": {
          "base_uri": "https://localhost:8080/"
        },
        "id": "zQTz7rpOC1kr",
        "outputId": "49e6c27c-f545-48be-8cda-0a949c7af362"
      },
      "execution_count": null,
      "outputs": [
        {
          "output_type": "stream",
          "name": "stderr",
          "text": [
            "/usr/local/lib/python3.10/dist-packages/torchvision/models/_utils.py:208: UserWarning: The parameter 'pretrained' is deprecated since 0.13 and may be removed in the future, please use 'weights' instead.\n",
            "  warnings.warn(\n",
            "/usr/local/lib/python3.10/dist-packages/torchvision/models/_utils.py:223: UserWarning: Arguments other than a weight enum or `None` for 'weights' are deprecated since 0.13 and may be removed in the future. The current behavior is equivalent to passing `weights=ResNet34_Weights.IMAGENET1K_V1`. You can also use `weights=ResNet34_Weights.DEFAULT` to get the most up-to-date weights.\n",
            "  warnings.warn(msg)\n",
            "Downloading: \"https://download.pytorch.org/models/resnet34-b627a593.pth\" to /root/.cache/torch/hub/checkpoints/resnet34-b627a593.pth\n",
            "100%|██████████| 83.3M/83.3M [00:00<00:00, 96.5MB/s]\n"
          ]
        },
        {
          "output_type": "execute_result",
          "data": {
            "text/plain": [
              "ResNet(\n",
              "  (conv1): Conv2d(3, 64, kernel_size=(7, 7), stride=(2, 2), padding=(3, 3), bias=False)\n",
              "  (bn1): BatchNorm2d(64, eps=1e-05, momentum=0.1, affine=True, track_running_stats=True)\n",
              "  (relu): ReLU(inplace=True)\n",
              "  (maxpool): MaxPool2d(kernel_size=3, stride=2, padding=1, dilation=1, ceil_mode=False)\n",
              "  (layer1): Sequential(\n",
              "    (0): BasicBlock(\n",
              "      (conv1): Conv2d(64, 64, kernel_size=(3, 3), stride=(1, 1), padding=(1, 1), bias=False)\n",
              "      (bn1): BatchNorm2d(64, eps=1e-05, momentum=0.1, affine=True, track_running_stats=True)\n",
              "      (relu): ReLU(inplace=True)\n",
              "      (conv2): Conv2d(64, 64, kernel_size=(3, 3), stride=(1, 1), padding=(1, 1), bias=False)\n",
              "      (bn2): BatchNorm2d(64, eps=1e-05, momentum=0.1, affine=True, track_running_stats=True)\n",
              "    )\n",
              "    (1): BasicBlock(\n",
              "      (conv1): Conv2d(64, 64, kernel_size=(3, 3), stride=(1, 1), padding=(1, 1), bias=False)\n",
              "      (bn1): BatchNorm2d(64, eps=1e-05, momentum=0.1, affine=True, track_running_stats=True)\n",
              "      (relu): ReLU(inplace=True)\n",
              "      (conv2): Conv2d(64, 64, kernel_size=(3, 3), stride=(1, 1), padding=(1, 1), bias=False)\n",
              "      (bn2): BatchNorm2d(64, eps=1e-05, momentum=0.1, affine=True, track_running_stats=True)\n",
              "    )\n",
              "    (2): BasicBlock(\n",
              "      (conv1): Conv2d(64, 64, kernel_size=(3, 3), stride=(1, 1), padding=(1, 1), bias=False)\n",
              "      (bn1): BatchNorm2d(64, eps=1e-05, momentum=0.1, affine=True, track_running_stats=True)\n",
              "      (relu): ReLU(inplace=True)\n",
              "      (conv2): Conv2d(64, 64, kernel_size=(3, 3), stride=(1, 1), padding=(1, 1), bias=False)\n",
              "      (bn2): BatchNorm2d(64, eps=1e-05, momentum=0.1, affine=True, track_running_stats=True)\n",
              "    )\n",
              "  )\n",
              "  (layer2): Sequential(\n",
              "    (0): BasicBlock(\n",
              "      (conv1): Conv2d(64, 128, kernel_size=(3, 3), stride=(2, 2), padding=(1, 1), bias=False)\n",
              "      (bn1): BatchNorm2d(128, eps=1e-05, momentum=0.1, affine=True, track_running_stats=True)\n",
              "      (relu): ReLU(inplace=True)\n",
              "      (conv2): Conv2d(128, 128, kernel_size=(3, 3), stride=(1, 1), padding=(1, 1), bias=False)\n",
              "      (bn2): BatchNorm2d(128, eps=1e-05, momentum=0.1, affine=True, track_running_stats=True)\n",
              "      (downsample): Sequential(\n",
              "        (0): Conv2d(64, 128, kernel_size=(1, 1), stride=(2, 2), bias=False)\n",
              "        (1): BatchNorm2d(128, eps=1e-05, momentum=0.1, affine=True, track_running_stats=True)\n",
              "      )\n",
              "    )\n",
              "    (1): BasicBlock(\n",
              "      (conv1): Conv2d(128, 128, kernel_size=(3, 3), stride=(1, 1), padding=(1, 1), bias=False)\n",
              "      (bn1): BatchNorm2d(128, eps=1e-05, momentum=0.1, affine=True, track_running_stats=True)\n",
              "      (relu): ReLU(inplace=True)\n",
              "      (conv2): Conv2d(128, 128, kernel_size=(3, 3), stride=(1, 1), padding=(1, 1), bias=False)\n",
              "      (bn2): BatchNorm2d(128, eps=1e-05, momentum=0.1, affine=True, track_running_stats=True)\n",
              "    )\n",
              "    (2): BasicBlock(\n",
              "      (conv1): Conv2d(128, 128, kernel_size=(3, 3), stride=(1, 1), padding=(1, 1), bias=False)\n",
              "      (bn1): BatchNorm2d(128, eps=1e-05, momentum=0.1, affine=True, track_running_stats=True)\n",
              "      (relu): ReLU(inplace=True)\n",
              "      (conv2): Conv2d(128, 128, kernel_size=(3, 3), stride=(1, 1), padding=(1, 1), bias=False)\n",
              "      (bn2): BatchNorm2d(128, eps=1e-05, momentum=0.1, affine=True, track_running_stats=True)\n",
              "    )\n",
              "    (3): BasicBlock(\n",
              "      (conv1): Conv2d(128, 128, kernel_size=(3, 3), stride=(1, 1), padding=(1, 1), bias=False)\n",
              "      (bn1): BatchNorm2d(128, eps=1e-05, momentum=0.1, affine=True, track_running_stats=True)\n",
              "      (relu): ReLU(inplace=True)\n",
              "      (conv2): Conv2d(128, 128, kernel_size=(3, 3), stride=(1, 1), padding=(1, 1), bias=False)\n",
              "      (bn2): BatchNorm2d(128, eps=1e-05, momentum=0.1, affine=True, track_running_stats=True)\n",
              "    )\n",
              "  )\n",
              "  (layer3): Sequential(\n",
              "    (0): BasicBlock(\n",
              "      (conv1): Conv2d(128, 256, kernel_size=(3, 3), stride=(2, 2), padding=(1, 1), bias=False)\n",
              "      (bn1): BatchNorm2d(256, eps=1e-05, momentum=0.1, affine=True, track_running_stats=True)\n",
              "      (relu): ReLU(inplace=True)\n",
              "      (conv2): Conv2d(256, 256, kernel_size=(3, 3), stride=(1, 1), padding=(1, 1), bias=False)\n",
              "      (bn2): BatchNorm2d(256, eps=1e-05, momentum=0.1, affine=True, track_running_stats=True)\n",
              "      (downsample): Sequential(\n",
              "        (0): Conv2d(128, 256, kernel_size=(1, 1), stride=(2, 2), bias=False)\n",
              "        (1): BatchNorm2d(256, eps=1e-05, momentum=0.1, affine=True, track_running_stats=True)\n",
              "      )\n",
              "    )\n",
              "    (1): BasicBlock(\n",
              "      (conv1): Conv2d(256, 256, kernel_size=(3, 3), stride=(1, 1), padding=(1, 1), bias=False)\n",
              "      (bn1): BatchNorm2d(256, eps=1e-05, momentum=0.1, affine=True, track_running_stats=True)\n",
              "      (relu): ReLU(inplace=True)\n",
              "      (conv2): Conv2d(256, 256, kernel_size=(3, 3), stride=(1, 1), padding=(1, 1), bias=False)\n",
              "      (bn2): BatchNorm2d(256, eps=1e-05, momentum=0.1, affine=True, track_running_stats=True)\n",
              "    )\n",
              "    (2): BasicBlock(\n",
              "      (conv1): Conv2d(256, 256, kernel_size=(3, 3), stride=(1, 1), padding=(1, 1), bias=False)\n",
              "      (bn1): BatchNorm2d(256, eps=1e-05, momentum=0.1, affine=True, track_running_stats=True)\n",
              "      (relu): ReLU(inplace=True)\n",
              "      (conv2): Conv2d(256, 256, kernel_size=(3, 3), stride=(1, 1), padding=(1, 1), bias=False)\n",
              "      (bn2): BatchNorm2d(256, eps=1e-05, momentum=0.1, affine=True, track_running_stats=True)\n",
              "    )\n",
              "    (3): BasicBlock(\n",
              "      (conv1): Conv2d(256, 256, kernel_size=(3, 3), stride=(1, 1), padding=(1, 1), bias=False)\n",
              "      (bn1): BatchNorm2d(256, eps=1e-05, momentum=0.1, affine=True, track_running_stats=True)\n",
              "      (relu): ReLU(inplace=True)\n",
              "      (conv2): Conv2d(256, 256, kernel_size=(3, 3), stride=(1, 1), padding=(1, 1), bias=False)\n",
              "      (bn2): BatchNorm2d(256, eps=1e-05, momentum=0.1, affine=True, track_running_stats=True)\n",
              "    )\n",
              "    (4): BasicBlock(\n",
              "      (conv1): Conv2d(256, 256, kernel_size=(3, 3), stride=(1, 1), padding=(1, 1), bias=False)\n",
              "      (bn1): BatchNorm2d(256, eps=1e-05, momentum=0.1, affine=True, track_running_stats=True)\n",
              "      (relu): ReLU(inplace=True)\n",
              "      (conv2): Conv2d(256, 256, kernel_size=(3, 3), stride=(1, 1), padding=(1, 1), bias=False)\n",
              "      (bn2): BatchNorm2d(256, eps=1e-05, momentum=0.1, affine=True, track_running_stats=True)\n",
              "    )\n",
              "    (5): BasicBlock(\n",
              "      (conv1): Conv2d(256, 256, kernel_size=(3, 3), stride=(1, 1), padding=(1, 1), bias=False)\n",
              "      (bn1): BatchNorm2d(256, eps=1e-05, momentum=0.1, affine=True, track_running_stats=True)\n",
              "      (relu): ReLU(inplace=True)\n",
              "      (conv2): Conv2d(256, 256, kernel_size=(3, 3), stride=(1, 1), padding=(1, 1), bias=False)\n",
              "      (bn2): BatchNorm2d(256, eps=1e-05, momentum=0.1, affine=True, track_running_stats=True)\n",
              "    )\n",
              "  )\n",
              "  (layer4): Sequential(\n",
              "    (0): BasicBlock(\n",
              "      (conv1): Conv2d(256, 512, kernel_size=(3, 3), stride=(2, 2), padding=(1, 1), bias=False)\n",
              "      (bn1): BatchNorm2d(512, eps=1e-05, momentum=0.1, affine=True, track_running_stats=True)\n",
              "      (relu): ReLU(inplace=True)\n",
              "      (conv2): Conv2d(512, 512, kernel_size=(3, 3), stride=(1, 1), padding=(1, 1), bias=False)\n",
              "      (bn2): BatchNorm2d(512, eps=1e-05, momentum=0.1, affine=True, track_running_stats=True)\n",
              "      (downsample): Sequential(\n",
              "        (0): Conv2d(256, 512, kernel_size=(1, 1), stride=(2, 2), bias=False)\n",
              "        (1): BatchNorm2d(512, eps=1e-05, momentum=0.1, affine=True, track_running_stats=True)\n",
              "      )\n",
              "    )\n",
              "    (1): BasicBlock(\n",
              "      (conv1): Conv2d(512, 512, kernel_size=(3, 3), stride=(1, 1), padding=(1, 1), bias=False)\n",
              "      (bn1): BatchNorm2d(512, eps=1e-05, momentum=0.1, affine=True, track_running_stats=True)\n",
              "      (relu): ReLU(inplace=True)\n",
              "      (conv2): Conv2d(512, 512, kernel_size=(3, 3), stride=(1, 1), padding=(1, 1), bias=False)\n",
              "      (bn2): BatchNorm2d(512, eps=1e-05, momentum=0.1, affine=True, track_running_stats=True)\n",
              "    )\n",
              "    (2): BasicBlock(\n",
              "      (conv1): Conv2d(512, 512, kernel_size=(3, 3), stride=(1, 1), padding=(1, 1), bias=False)\n",
              "      (bn1): BatchNorm2d(512, eps=1e-05, momentum=0.1, affine=True, track_running_stats=True)\n",
              "      (relu): ReLU(inplace=True)\n",
              "      (conv2): Conv2d(512, 512, kernel_size=(3, 3), stride=(1, 1), padding=(1, 1), bias=False)\n",
              "      (bn2): BatchNorm2d(512, eps=1e-05, momentum=0.1, affine=True, track_running_stats=True)\n",
              "    )\n",
              "  )\n",
              "  (avgpool): AdaptiveAvgPool2d(output_size=(1, 1))\n",
              "  (fc): Linear(in_features=512, out_features=1000, bias=True)\n",
              ")"
            ]
          },
          "metadata": {},
          "execution_count": 4
        }
      ]
    },
    {
      "cell_type": "markdown",
      "source": [
        "#Step 3: Preprocess the Input Image"
      ],
      "metadata": {
        "id": "QlqiBlBTIjem"
      }
    },
    {
      "cell_type": "code",
      "source": [
        "# Define image preprocessing steps including resizing, cropping, and normalizing the image so that it matches the input requirements of the ResNet34 model.\n",
        "preprocess = transforms.Compose([\n",
        "    transforms.Resize(256),\n",
        "    transforms.CenterCrop(224),\n",
        "    transforms.ToTensor(),\n",
        "    transforms.Normalize(mean=[0.485, 0.456, 0.406], std=[0.229, 0.224, 0.225])\n",
        "])"
      ],
      "metadata": {
        "id": "ughbXBtxC3b2"
      },
      "execution_count": null,
      "outputs": []
    },
    {
      "cell_type": "code",
      "source": [
        "# Load and preprocess the image\n",
        "image_path = \"sample_image.jpg\"\n",
        "image = Image.open(image_path).convert('RGB')\n",
        "input_tensor = preprocess(image).unsqueeze(0)"
      ],
      "metadata": {
        "id": "OsdAU4iuC5AK"
      },
      "execution_count": null,
      "outputs": []
    },
    {
      "cell_type": "code",
      "source": [
        "# Display the shape of the input tensor to confirm preprocessing was successful\n",
        "input_tensor.shape"
      ],
      "metadata": {
        "colab": {
          "base_uri": "https://localhost:8080/"
        },
        "id": "OYASitMBC6ke",
        "outputId": "0fffdd95-5e6e-4911-a15a-0fc43f5c0a72"
      },
      "execution_count": null,
      "outputs": [
        {
          "output_type": "execute_result",
          "data": {
            "text/plain": [
              "torch.Size([1, 3, 224, 224])"
            ]
          },
          "metadata": {},
          "execution_count": 7
        }
      ]
    },
    {
      "cell_type": "markdown",
      "source": [
        "#Step 4: Make a Prediction"
      ],
      "metadata": {
        "id": "nI6HEPtbIo5l"
      }
    },
    {
      "cell_type": "code",
      "source": [
        "# Use the model to make a prediction on the preprocessed image. The output tensor contains class scores, from which we determine the predicted class.\n",
        "output = model(input_tensor)\n",
        "_, pred_class = torch.max(output, 1)"
      ],
      "metadata": {
        "id": "VTskWVgAC79b"
      },
      "execution_count": null,
      "outputs": []
    },
    {
      "cell_type": "markdown",
      "source": [
        "#Step 5: Define Image Transform for Anchor Explainer\n",
        "\n",
        "**Anchor-based Explanation**:\n",
        "   - The AnchorImage explainer provides insights into the specific parts of an image that most influence the model's prediction. This is similar to how a human might identify a bird by focusing on its feathers or beak.\n",
        "   - The concept of \"anchors\" is key here. These anchors are interpretable parts of the image that, if altered, would significantly change the prediction. By identifying these regions, we gain a better understanding of what drives the model's decision-making.\n",
        "   - For instance, if the model classifies an image as a bird, the anchor may represent the beak or wings, which are important features that lead the model to that conclusion.\n"
      ],
      "metadata": {
        "id": "TEWAWaMyIw3x"
      }
    },
    {
      "cell_type": "code",
      "source": [
        "# Define an additional transform to ensure the image size matches the AnchorImage explainer requirements.\n",
        "transform = transforms.Compose([\n",
        "    transforms.Resize((224, 224)),  # Resize the image to 224x224 pixels\n",
        "    transforms.ToTensor(),  # Convert the image to PyTorch Tensor data type\n",
        "])\n",
        "\n",
        "# Load and transform the image for anchor explanation\n",
        "pil_image = Image.open(image_path).convert(\"RGB\")  # Load and convert image to RGB\n",
        "image_tensor = transform(pil_image).unsqueeze(0)"
      ],
      "metadata": {
        "id": "J6abqAz-C-kr"
      },
      "execution_count": null,
      "outputs": []
    },
    {
      "cell_type": "markdown",
      "source": [
        "#Step 6: Define Prediction Function for AnchorImage"
      ],
      "metadata": {
        "id": "ZhPDTrn4IyzS"
      }
    },
    {
      "cell_type": "code",
      "source": [
        "# The prediction function takes in a batch of images, preprocesses them, and runs them through the model to get predictions.\n",
        "def predict_anchor(images):\n",
        "    \"\"\"\n",
        "    Predicts the class probabilities for a batch of images.\n",
        "\n",
        "    Args:\n",
        "        images (list of numpy arrays): A batch of images to be processed.\n",
        "\n",
        "    Returns:\n",
        "        numpy.ndarray: Predicted class probabilities for each image in the batch.\n",
        "\n",
        "    This function preprocesses each image using the same steps applied to the original input image,\n",
        "    ensuring consistency. The batch of images is then passed through the pre-trained model to obtain\n",
        "    predictions, which are returned as numpy arrays. This allows the explainer to effectively use the model\n",
        "    to determine how each part of the image influences the prediction.\n",
        "    \"\"\"\n",
        "    batch = torch.stack([preprocess(Image.fromarray(img.astype(np.uint8))) for img in images])\n",
        "    output = model(batch)\n",
        "    return output.detach().numpy()  # Convert PyTorch tensor to numpy array"
      ],
      "metadata": {
        "id": "QoPAVSukDA25"
      },
      "execution_count": null,
      "outputs": []
    },
    {
      "cell_type": "markdown",
      "source": [
        "#Step 7: Initialize the AnchorImage Explainer\n",
        "\n",
        "**Segmentation and Anchors**:\n",
        "   - We use a segmentation technique called SLIC (Simple Linear Iterative Clustering) to break down the image into meaningful regions or superpixels. These superpixels make it easier to understand the model's focus areas by visually separating the important segments.\n",
        "   - The explainer uses these segments to determine which parts of the image are most important for the decision, thereby providing transparency. This transparency helps us understand not only what decision the model made but why it made that decision.\n",
        "   - Superpixel segmentation makes the explanation more human-readable by isolating regions that contain distinguishing features, rather than working with individual pixels, which are harder to interpret.\n"
      ],
      "metadata": {
        "id": "P-Tj2ujkI2F6"
      }
    },
    {
      "cell_type": "code",
      "source": [
        "# AnchorImage uses segmentation techniques to create interpretable regions that contribute to the model's prediction.\n",
        "# We use the SLIC segmentation algorithm with specified parameters to initialize the explainer.\n",
        "segmentation_fn = 'slic'\n",
        "kwargs = {'n_segments': 10, 'compactness': 20, 'sigma': .6}  # Adjust segmentation parameters as needed\n",
        "explainer = AnchorImage(predict_anchor, image_shape=(224, 224, 3), segmentation_fn=segmentation_fn,\n",
        "                        segmentation_kwargs=kwargs)"
      ],
      "metadata": {
        "id": "utfgUtOnDCZ3"
      },
      "execution_count": null,
      "outputs": []
    },
    {
      "cell_type": "markdown",
      "source": [
        "\n",
        "#Step 8: Generate an Explanation for the Input Image"
      ],
      "metadata": {
        "id": "uct4ar7VJFJy"
      }
    },
    {
      "cell_type": "code",
      "source": [
        "# Explain the prediction for the input image by providing the image as a numpy array to the explainer.\n",
        "np_image = np.array(pil_image)\n",
        "explanation = explainer.explain(np_image, threshold=0.95)"
      ],
      "metadata": {
        "id": "P7BjdWn-JDvd"
      },
      "execution_count": null,
      "outputs": []
    },
    {
      "cell_type": "markdown",
      "source": [
        "#Step 9: Visualize the Anchor\n",
        " **Confidence in Anchors**:\n",
        "   - The confidence score, shown in the anchor visualization, indicates how certain the model is that the identified region (anchor) supports its prediction. For instance, if the model predicts that an image is of a bird, the anchor with a high confidence score represents the visual parts that are most indicative of a bird.\n",
        "   - This confidence score is crucial for evaluating the reliability of the model's prediction. In safety-critical applications, such as autonomous driving, it is important to ensure that high-confidence anchors are responsible for decisions to trust the model's output.\n",
        "   - This confidence metric also assists in regulatory compliance, allowing auditors or stakeholders to verify that the model’s decision-making process adheres to expected guidelines and principles.\n"
      ],
      "metadata": {
        "id": "tFS_oNtnI5Bn"
      }
    },
    {
      "cell_type": "code",
      "source": [
        "# The anchor represents the region of the image that was crucial for the model's decision.\n",
        "# The confidence score indicates how well this anchor represents the model's prediction.\n",
        "plt.imshow(explanation.anchor)\n",
        "plt.title(f\"Anchor Visualization (Confidence: {explanation.precision:.2f})\")\n",
        "plt.axis('off')  # Turn off axis\n",
        "plt.show()"
      ],
      "metadata": {
        "colab": {
          "base_uri": "https://localhost:8080/",
          "height": 428
        },
        "id": "kzykOGEyDEme",
        "outputId": "48b7fe87-f453-4e57-b31a-2c8898ab60d3"
      },
      "execution_count": null,
      "outputs": [
        {
          "output_type": "display_data",
          "data": {
            "text/plain": [
              "<Figure size 640x480 with 1 Axes>"
            ],
            "image/png": "[encoded data removed]"
          },
          "metadata": {}
        }
      ]
    },
    {
      "cell_type": "markdown",
      "source": [
        "#Step 10: Visualize the Superpixels"
      ],
      "metadata": {
        "id": "SiyJ9GZbI85g"
      }
    },
    {
      "cell_type": "code",
      "source": [
        "# The superpixels represent segments of the image used by the explainer to determine regions of interest.\n",
        "plt.imshow(explanation.segments)\n",
        "plt.title(\"Superpixels/Segments Visualization\")\n",
        "plt.axis('off')  # Turn off axis\n",
        "plt.show()\n"
      ],
      "metadata": {
        "id": "PpkCebqvI8gk",
        "outputId": "b0c54996-6c2f-4797-9d9d-11d0e77223a8",
        "colab": {
          "base_uri": "https://localhost:8080/",
          "height": 428
        }
      },
      "execution_count": null,
      "outputs": [
        {
          "output_type": "display_data",
          "data": {
            "text/plain": [
              "<Figure size 640x480 with 1 Axes>"
            ],
            "image/png": "[encoded data removed]"
          },
          "metadata": {}
        }
      ]
    },
    {
      "cell_type": "markdown",
      "source": [
        "**Application**:\n",
        "   - These types of explanations are crucial for areas where trust and interpretability are key, such as healthcare, finance, and autonomous driving. Understanding what drives a model's decision allows stakeholders to verify the decision-making process, ensuring alignment with regulatory and ethical standards.\n",
        "   - For instance, in healthcare, understanding which features of an X-ray image led to a diagnosis can help doctors validate the AI's decision. In finance, understanding the factors behind a credit score decision can ensure fairness and address regulatory scrutiny.\n",
        "   - By visualizing these anchors, stakeholders can verify whether the AI system is making decisions based on appropriate and ethical criteria. This helps in improving trust in the technology and ensuring responsible use.\n",
        "\n",
        "The process described here enhances transparency, builds trust, and ensures that AI systems provide understandable and actionable insights. It also ensures that stakeholders—from developers to end-users—are well informed about the internal workings of the AI, promoting adoption and ethical usage of AI technologies."
      ],
      "metadata": {
        "id": "0G959qrZJrLR"
      }
    }
  ]
}