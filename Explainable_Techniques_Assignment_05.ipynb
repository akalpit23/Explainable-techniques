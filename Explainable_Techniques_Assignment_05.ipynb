{
  "cells": [
    {
      "cell_type": "markdown",
      "metadata": {
        "id": "view-in-github",
        "colab_type": "text"
      },
      "source": [
        "<a href=\"https://colab.research.google.com/github/akalpit23/Explainable-techniques/blob/main/Explainable_Techniques_Assignment_05.ipynb\" target=\"_parent\"><img src=\"https://colab.research.google.com/assets/colab-badge.svg\" alt=\"Open In Colab\"/></a>"
      ]
    },
    {
      "cell_type": "markdown",
      "metadata": {
        "id": "DaojfcQZwquA"
      },
      "source": [
        "# AIPI 590 - XAI | Assignment #05\n",
        "\n",
        "\n",
        "\n",
        "## Akalpit Dawkhar\n",
        "\n",
        "### **Explainable Techniques**\n",
        "\n",
        "### Overview"
      ]
    },
    {
      "cell_type": "code",
      "execution_count": 2,
      "metadata": {
        "id": "_VH5w6rqwquC",
        "outputId": "93178bfb-caef-4983-bb90-b0e646f8e4f4",
        "colab": {
          "base_uri": "https://localhost:8080/"
        }
      },
      "outputs": [
        {
          "output_type": "stream",
          "name": "stdout",
          "text": [
            "rm: cannot remove './sample_data': No such file or directory\n",
            "fatal: destination path 'Explainable-techniques' already exists and is not an empty directory.\n",
            "Requirement already satisfied: numpy in /usr/local/lib/python3.10/dist-packages (from -r Explainable-techniques/requirements.txt (line 1)) (1.26.4)\n",
            "Requirement already satisfied: pandas in /usr/local/lib/python3.10/dist-packages (from -r Explainable-techniques/requirements.txt (line 2)) (2.2.2)\n",
            "Requirement already satisfied: matplotlib in /usr/local/lib/python3.10/dist-packages (from -r Explainable-techniques/requirements.txt (line 3)) (3.7.1)\n",
            "Requirement already satisfied: scikit-learn in /usr/local/lib/python3.10/dist-packages (from -r Explainable-techniques/requirements.txt (line 4)) (1.5.2)\n",
            "Requirement already satisfied: lime in /usr/local/lib/python3.10/dist-packages (from -r Explainable-techniques/requirements.txt (line 5)) (0.2.0.1)\n",
            "Requirement already satisfied: anchor-exp in /usr/local/lib/python3.10/dist-packages (from -r Explainable-techniques/requirements.txt (line 6)) (0.0.2.0)\n",
            "Requirement already satisfied: shap in /usr/local/lib/python3.10/dist-packages (from -r Explainable-techniques/requirements.txt (line 7)) (0.46.0)\n",
            "Requirement already satisfied: xgboost in /usr/local/lib/python3.10/dist-packages (from -r Explainable-techniques/requirements.txt (line 8)) (2.1.1)\n",
            "Requirement already satisfied: seaborn in /usr/local/lib/python3.10/dist-packages (from -r Explainable-techniques/requirements.txt (line 9)) (0.13.1)\n",
            "Requirement already satisfied: torch in /usr/local/lib/python3.10/dist-packages (from -r Explainable-techniques/requirements.txt (line 10)) (2.4.1+cu121)\n",
            "Requirement already satisfied: torchvision in /usr/local/lib/python3.10/dist-packages (from -r Explainable-techniques/requirements.txt (line 11)) (0.19.1+cu121)\n",
            "Requirement already satisfied: adversarial-robustness-toolbox in /usr/local/lib/python3.10/dist-packages (from -r Explainable-techniques/requirements.txt (line 12)) (1.18.2)\n",
            "Requirement already satisfied: opencv-python in /usr/local/lib/python3.10/dist-packages (from -r Explainable-techniques/requirements.txt (line 13)) (4.10.0.84)\n",
            "Requirement already satisfied: tqdm in /usr/local/lib/python3.10/dist-packages (from -r Explainable-techniques/requirements.txt (line 14)) (4.66.5)\n",
            "Requirement already satisfied: tensorflow in /usr/local/lib/python3.10/dist-packages (from -r Explainable-techniques/requirements.txt (line 15)) (2.17.0)\n",
            "Requirement already satisfied: tensorflow-hub in /usr/local/lib/python3.10/dist-packages (from -r Explainable-techniques/requirements.txt (line 16)) (0.16.1)\n",
            "Requirement already satisfied: transformers in /usr/local/lib/python3.10/dist-packages (from -r Explainable-techniques/requirements.txt (line 17)) (4.44.2)\n",
            "Requirement already satisfied: pillow in /usr/local/lib/python3.10/dist-packages (from -r Explainable-techniques/requirements.txt (line 18)) (10.4.0)\n",
            "Requirement already satisfied: requests in /usr/local/lib/python3.10/dist-packages (from -r Explainable-techniques/requirements.txt (line 19)) (2.32.3)\n",
            "Requirement already satisfied: alibi in /usr/local/lib/python3.10/dist-packages (from -r Explainable-techniques/requirements.txt (line 20)) (0.9.6)\n",
            "Requirement already satisfied: python-dateutil>=2.8.2 in /usr/local/lib/python3.10/dist-packages (from pandas->-r Explainable-techniques/requirements.txt (line 2)) (2.8.2)\n",
            "Requirement already satisfied: pytz>=2020.1 in /usr/local/lib/python3.10/dist-packages (from pandas->-r Explainable-techniques/requirements.txt (line 2)) (2024.2)\n",
            "Requirement already satisfied: tzdata>=2022.7 in /usr/local/lib/python3.10/dist-packages (from pandas->-r Explainable-techniques/requirements.txt (line 2)) (2024.2)\n",
            "Requirement already satisfied: contourpy>=1.0.1 in /usr/local/lib/python3.10/dist-packages (from matplotlib->-r Explainable-techniques/requirements.txt (line 3)) (1.3.0)\n",
            "Requirement already satisfied: cycler>=0.10 in /usr/local/lib/python3.10/dist-packages (from matplotlib->-r Explainable-techniques/requirements.txt (line 3)) (0.12.1)\n",
            "Requirement already satisfied: fonttools>=4.22.0 in /usr/local/lib/python3.10/dist-packages (from matplotlib->-r Explainable-techniques/requirements.txt (line 3)) (4.54.1)\n",
            "Requirement already satisfied: kiwisolver>=1.0.1 in /usr/local/lib/python3.10/dist-packages (from matplotlib->-r Explainable-techniques/requirements.txt (line 3)) (1.4.7)\n",
            "Requirement already satisfied: packaging>=20.0 in /usr/local/lib/python3.10/dist-packages (from matplotlib->-r Explainable-techniques/requirements.txt (line 3)) (24.1)\n",
            "Requirement already satisfied: pyparsing>=2.3.1 in /usr/local/lib/python3.10/dist-packages (from matplotlib->-r Explainable-techniques/requirements.txt (line 3)) (3.1.4)\n",
            "Requirement already satisfied: scipy>=1.6.0 in /usr/local/lib/python3.10/dist-packages (from scikit-learn->-r Explainable-techniques/requirements.txt (line 4)) (1.13.1)\n",
            "Requirement already satisfied: joblib>=1.2.0 in /usr/local/lib/python3.10/dist-packages (from scikit-learn->-r Explainable-techniques/requirements.txt (line 4)) (1.4.2)\n",
            "Requirement already satisfied: threadpoolctl>=3.1.0 in /usr/local/lib/python3.10/dist-packages (from scikit-learn->-r Explainable-techniques/requirements.txt (line 4)) (3.5.0)\n",
            "Requirement already satisfied: scikit-image>=0.12 in /usr/local/lib/python3.10/dist-packages (from lime->-r Explainable-techniques/requirements.txt (line 5)) (0.22.0)\n",
            "Requirement already satisfied: spacy in /usr/local/lib/python3.10/dist-packages (from anchor-exp->-r Explainable-techniques/requirements.txt (line 6)) (3.7.5)\n",
            "Requirement already satisfied: slicer==0.0.8 in /usr/local/lib/python3.10/dist-packages (from shap->-r Explainable-techniques/requirements.txt (line 7)) (0.0.8)\n",
            "Requirement already satisfied: numba in /usr/local/lib/python3.10/dist-packages (from shap->-r Explainable-techniques/requirements.txt (line 7)) (0.60.0)\n",
            "Requirement already satisfied: cloudpickle in /usr/local/lib/python3.10/dist-packages (from shap->-r Explainable-techniques/requirements.txt (line 7)) (2.2.1)\n",
            "Requirement already satisfied: nvidia-nccl-cu12 in /usr/local/lib/python3.10/dist-packages (from xgboost->-r Explainable-techniques/requirements.txt (line 8)) (2.23.4)\n",
            "Requirement already satisfied: filelock in /usr/local/lib/python3.10/dist-packages (from torch->-r Explainable-techniques/requirements.txt (line 10)) (3.16.1)\n",
            "Requirement already satisfied: typing-extensions>=4.8.0 in /usr/local/lib/python3.10/dist-packages (from torch->-r Explainable-techniques/requirements.txt (line 10)) (4.12.2)\n",
            "Requirement already satisfied: sympy in /usr/local/lib/python3.10/dist-packages (from torch->-r Explainable-techniques/requirements.txt (line 10)) (1.13.3)\n",
            "Requirement already satisfied: networkx in /usr/local/lib/python3.10/dist-packages (from torch->-r Explainable-techniques/requirements.txt (line 10)) (3.3)\n",
            "Requirement already satisfied: jinja2 in /usr/local/lib/python3.10/dist-packages (from torch->-r Explainable-techniques/requirements.txt (line 10)) (3.1.4)\n",
            "Requirement already satisfied: fsspec in /usr/local/lib/python3.10/dist-packages (from torch->-r Explainable-techniques/requirements.txt (line 10)) (2024.6.1)\n",
            "Requirement already satisfied: six in /usr/local/lib/python3.10/dist-packages (from adversarial-robustness-toolbox->-r Explainable-techniques/requirements.txt (line 12)) (1.16.0)\n",
            "Requirement already satisfied: setuptools in /usr/local/lib/python3.10/dist-packages (from adversarial-robustness-toolbox->-r Explainable-techniques/requirements.txt (line 12)) (71.0.4)\n",
            "Requirement already satisfied: absl-py>=1.0.0 in /usr/local/lib/python3.10/dist-packages (from tensorflow->-r Explainable-techniques/requirements.txt (line 15)) (1.4.0)\n",
            "Requirement already satisfied: astunparse>=1.6.0 in /usr/local/lib/python3.10/dist-packages (from tensorflow->-r Explainable-techniques/requirements.txt (line 15)) (1.6.3)\n",
            "Requirement already satisfied: flatbuffers>=24.3.25 in /usr/local/lib/python3.10/dist-packages (from tensorflow->-r Explainable-techniques/requirements.txt (line 15)) (24.3.25)\n",
            "Requirement already satisfied: gast!=0.5.0,!=0.5.1,!=0.5.2,>=0.2.1 in /usr/local/lib/python3.10/dist-packages (from tensorflow->-r Explainable-techniques/requirements.txt (line 15)) (0.6.0)\n",
            "Requirement already satisfied: google-pasta>=0.1.1 in /usr/local/lib/python3.10/dist-packages (from tensorflow->-r Explainable-techniques/requirements.txt (line 15)) (0.2.0)\n",
            "Requirement already satisfied: h5py>=3.10.0 in /usr/local/lib/python3.10/dist-packages (from tensorflow->-r Explainable-techniques/requirements.txt (line 15)) (3.11.0)\n",
            "Requirement already satisfied: libclang>=13.0.0 in /usr/local/lib/python3.10/dist-packages (from tensorflow->-r Explainable-techniques/requirements.txt (line 15)) (18.1.1)\n",
            "Requirement already satisfied: ml-dtypes<0.5.0,>=0.3.1 in /usr/local/lib/python3.10/dist-packages (from tensorflow->-r Explainable-techniques/requirements.txt (line 15)) (0.4.1)\n",
            "Requirement already satisfied: opt-einsum>=2.3.2 in /usr/local/lib/python3.10/dist-packages (from tensorflow->-r Explainable-techniques/requirements.txt (line 15)) (3.4.0)\n",
            "Requirement already satisfied: protobuf!=4.21.0,!=4.21.1,!=4.21.2,!=4.21.3,!=4.21.4,!=4.21.5,<5.0.0dev,>=3.20.3 in /usr/local/lib/python3.10/dist-packages (from tensorflow->-r Explainable-techniques/requirements.txt (line 15)) (3.20.3)\n",
            "Requirement already satisfied: termcolor>=1.1.0 in /usr/local/lib/python3.10/dist-packages (from tensorflow->-r Explainable-techniques/requirements.txt (line 15)) (2.4.0)\n",
            "Requirement already satisfied: wrapt>=1.11.0 in /usr/local/lib/python3.10/dist-packages (from tensorflow->-r Explainable-techniques/requirements.txt (line 15)) (1.16.0)\n",
            "Requirement already satisfied: grpcio<2.0,>=1.24.3 in /usr/local/lib/python3.10/dist-packages (from tensorflow->-r Explainable-techniques/requirements.txt (line 15)) (1.64.1)\n",
            "Requirement already satisfied: tensorboard<2.18,>=2.17 in /usr/local/lib/python3.10/dist-packages (from tensorflow->-r Explainable-techniques/requirements.txt (line 15)) (2.17.0)\n",
            "Requirement already satisfied: keras>=3.2.0 in /usr/local/lib/python3.10/dist-packages (from tensorflow->-r Explainable-techniques/requirements.txt (line 15)) (3.4.1)\n",
            "Requirement already satisfied: tensorflow-io-gcs-filesystem>=0.23.1 in /usr/local/lib/python3.10/dist-packages (from tensorflow->-r Explainable-techniques/requirements.txt (line 15)) (0.37.1)\n",
            "Requirement already satisfied: tf-keras>=2.14.1 in /usr/local/lib/python3.10/dist-packages (from tensorflow-hub->-r Explainable-techniques/requirements.txt (line 16)) (2.17.0)\n",
            "Requirement already satisfied: huggingface-hub<1.0,>=0.23.2 in /usr/local/lib/python3.10/dist-packages (from transformers->-r Explainable-techniques/requirements.txt (line 17)) (0.24.7)\n",
            "Requirement already satisfied: pyyaml>=5.1 in /usr/local/lib/python3.10/dist-packages (from transformers->-r Explainable-techniques/requirements.txt (line 17)) (6.0.2)\n",
            "Requirement already satisfied: regex!=2019.12.17 in /usr/local/lib/python3.10/dist-packages (from transformers->-r Explainable-techniques/requirements.txt (line 17)) (2024.9.11)\n",
            "Requirement already satisfied: safetensors>=0.4.1 in /usr/local/lib/python3.10/dist-packages (from transformers->-r Explainable-techniques/requirements.txt (line 17)) (0.4.5)\n",
            "Requirement already satisfied: tokenizers<0.20,>=0.19 in /usr/local/lib/python3.10/dist-packages (from transformers->-r Explainable-techniques/requirements.txt (line 17)) (0.19.1)\n",
            "Requirement already satisfied: charset-normalizer<4,>=2 in /usr/local/lib/python3.10/dist-packages (from requests->-r Explainable-techniques/requirements.txt (line 19)) (3.3.2)\n",
            "Requirement already satisfied: idna<4,>=2.5 in /usr/local/lib/python3.10/dist-packages (from requests->-r Explainable-techniques/requirements.txt (line 19)) (3.10)\n",
            "Requirement already satisfied: urllib3<3,>=1.21.1 in /usr/local/lib/python3.10/dist-packages (from requests->-r Explainable-techniques/requirements.txt (line 19)) (2.2.3)\n",
            "Requirement already satisfied: certifi>=2017.4.17 in /usr/local/lib/python3.10/dist-packages (from requests->-r Explainable-techniques/requirements.txt (line 19)) (2024.8.30)\n",
            "Requirement already satisfied: blis<0.8.0 in /usr/local/lib/python3.10/dist-packages (from alibi->-r Explainable-techniques/requirements.txt (line 20)) (0.7.11)\n",
            "Requirement already satisfied: attrs<24.0.0,>=19.2.0 in /usr/local/lib/python3.10/dist-packages (from alibi->-r Explainable-techniques/requirements.txt (line 20)) (23.2.0)\n",
            "Requirement already satisfied: dill<0.4.0,>=0.3.0 in /usr/local/lib/python3.10/dist-packages (from alibi->-r Explainable-techniques/requirements.txt (line 20)) (0.3.9)\n",
            "Requirement already satisfied: wheel<1.0,>=0.23.0 in /usr/local/lib/python3.10/dist-packages (from astunparse>=1.6.0->tensorflow->-r Explainable-techniques/requirements.txt (line 15)) (0.44.0)\n",
            "Requirement already satisfied: rich in /usr/local/lib/python3.10/dist-packages (from keras>=3.2.0->tensorflow->-r Explainable-techniques/requirements.txt (line 15)) (13.8.1)\n",
            "Requirement already satisfied: namex in /usr/local/lib/python3.10/dist-packages (from keras>=3.2.0->tensorflow->-r Explainable-techniques/requirements.txt (line 15)) (0.0.8)\n",
            "Requirement already satisfied: optree in /usr/local/lib/python3.10/dist-packages (from keras>=3.2.0->tensorflow->-r Explainable-techniques/requirements.txt (line 15)) (0.12.1)\n",
            "Requirement already satisfied: imageio>=2.27 in /usr/local/lib/python3.10/dist-packages (from scikit-image>=0.12->lime->-r Explainable-techniques/requirements.txt (line 5)) (2.35.1)\n",
            "Requirement already satisfied: tifffile>=2022.8.12 in /usr/local/lib/python3.10/dist-packages (from scikit-image>=0.12->lime->-r Explainable-techniques/requirements.txt (line 5)) (2024.9.20)\n",
            "Requirement already satisfied: lazy_loader>=0.3 in /usr/local/lib/python3.10/dist-packages (from scikit-image>=0.12->lime->-r Explainable-techniques/requirements.txt (line 5)) (0.4)\n",
            "Requirement already satisfied: spacy-legacy<3.1.0,>=3.0.11 in /usr/local/lib/python3.10/dist-packages (from spacy->anchor-exp->-r Explainable-techniques/requirements.txt (line 6)) (3.0.12)\n",
            "Requirement already satisfied: spacy-loggers<2.0.0,>=1.0.0 in /usr/local/lib/python3.10/dist-packages (from spacy->anchor-exp->-r Explainable-techniques/requirements.txt (line 6)) (1.0.5)\n",
            "Requirement already satisfied: murmurhash<1.1.0,>=0.28.0 in /usr/local/lib/python3.10/dist-packages (from spacy->anchor-exp->-r Explainable-techniques/requirements.txt (line 6)) (1.0.10)\n",
            "Requirement already satisfied: cymem<2.1.0,>=2.0.2 in /usr/local/lib/python3.10/dist-packages (from spacy->anchor-exp->-r Explainable-techniques/requirements.txt (line 6)) (2.0.8)\n",
            "Requirement already satisfied: preshed<3.1.0,>=3.0.2 in /usr/local/lib/python3.10/dist-packages (from spacy->anchor-exp->-r Explainable-techniques/requirements.txt (line 6)) (3.0.9)\n",
            "Requirement already satisfied: thinc<8.3.0,>=8.2.2 in /usr/local/lib/python3.10/dist-packages (from spacy->anchor-exp->-r Explainable-techniques/requirements.txt (line 6)) (8.2.5)\n",
            "Requirement already satisfied: wasabi<1.2.0,>=0.9.1 in /usr/local/lib/python3.10/dist-packages (from spacy->anchor-exp->-r Explainable-techniques/requirements.txt (line 6)) (1.1.3)\n",
            "Requirement already satisfied: srsly<3.0.0,>=2.4.3 in /usr/local/lib/python3.10/dist-packages (from spacy->anchor-exp->-r Explainable-techniques/requirements.txt (line 6)) (2.4.8)\n",
            "Requirement already satisfied: catalogue<2.1.0,>=2.0.6 in /usr/local/lib/python3.10/dist-packages (from spacy->anchor-exp->-r Explainable-techniques/requirements.txt (line 6)) (2.0.10)\n",
            "Requirement already satisfied: weasel<0.5.0,>=0.1.0 in /usr/local/lib/python3.10/dist-packages (from spacy->anchor-exp->-r Explainable-techniques/requirements.txt (line 6)) (0.4.1)\n",
            "Requirement already satisfied: typer<1.0.0,>=0.3.0 in /usr/local/lib/python3.10/dist-packages (from spacy->anchor-exp->-r Explainable-techniques/requirements.txt (line 6)) (0.12.5)\n",
            "Requirement already satisfied: pydantic!=1.8,!=1.8.1,<3.0.0,>=1.7.4 in /usr/local/lib/python3.10/dist-packages (from spacy->anchor-exp->-r Explainable-techniques/requirements.txt (line 6)) (2.9.2)\n",
            "Requirement already satisfied: langcodes<4.0.0,>=3.2.0 in /usr/local/lib/python3.10/dist-packages (from spacy->anchor-exp->-r Explainable-techniques/requirements.txt (line 6)) (3.4.1)\n",
            "Requirement already satisfied: spacy-lookups-data<1.1.0,>=1.0.3 in /usr/local/lib/python3.10/dist-packages (from spacy[lookups]<4.0.0,>=2.0.0->alibi->-r Explainable-techniques/requirements.txt (line 20)) (1.0.5)\n",
            "Requirement already satisfied: markdown>=2.6.8 in /usr/local/lib/python3.10/dist-packages (from tensorboard<2.18,>=2.17->tensorflow->-r Explainable-techniques/requirements.txt (line 15)) (3.7)\n",
            "Requirement already satisfied: tensorboard-data-server<0.8.0,>=0.7.0 in /usr/local/lib/python3.10/dist-packages (from tensorboard<2.18,>=2.17->tensorflow->-r Explainable-techniques/requirements.txt (line 15)) (0.7.2)\n",
            "Requirement already satisfied: werkzeug>=1.0.1 in /usr/local/lib/python3.10/dist-packages (from tensorboard<2.18,>=2.17->tensorflow->-r Explainable-techniques/requirements.txt (line 15)) (3.0.4)\n",
            "Requirement already satisfied: MarkupSafe>=2.0 in /usr/local/lib/python3.10/dist-packages (from jinja2->torch->-r Explainable-techniques/requirements.txt (line 10)) (2.1.5)\n",
            "Requirement already satisfied: llvmlite<0.44,>=0.43.0dev0 in /usr/local/lib/python3.10/dist-packages (from numba->shap->-r Explainable-techniques/requirements.txt (line 7)) (0.43.0)\n",
            "Requirement already satisfied: mpmath<1.4,>=1.1.0 in /usr/local/lib/python3.10/dist-packages (from sympy->torch->-r Explainable-techniques/requirements.txt (line 10)) (1.3.0)\n",
            "Requirement already satisfied: language-data>=1.2 in /usr/local/lib/python3.10/dist-packages (from langcodes<4.0.0,>=3.2.0->spacy->anchor-exp->-r Explainable-techniques/requirements.txt (line 6)) (1.2.0)\n",
            "Requirement already satisfied: annotated-types>=0.6.0 in /usr/local/lib/python3.10/dist-packages (from pydantic!=1.8,!=1.8.1,<3.0.0,>=1.7.4->spacy->anchor-exp->-r Explainable-techniques/requirements.txt (line 6)) (0.7.0)\n",
            "Requirement already satisfied: pydantic-core==2.23.4 in /usr/local/lib/python3.10/dist-packages (from pydantic!=1.8,!=1.8.1,<3.0.0,>=1.7.4->spacy->anchor-exp->-r Explainable-techniques/requirements.txt (line 6)) (2.23.4)\n",
            "Requirement already satisfied: confection<1.0.0,>=0.0.1 in /usr/local/lib/python3.10/dist-packages (from thinc<8.3.0,>=8.2.2->spacy->anchor-exp->-r Explainable-techniques/requirements.txt (line 6)) (0.1.5)\n",
            "Requirement already satisfied: click>=8.0.0 in /usr/local/lib/python3.10/dist-packages (from typer<1.0.0,>=0.3.0->spacy->anchor-exp->-r Explainable-techniques/requirements.txt (line 6)) (8.1.7)\n",
            "Requirement already satisfied: shellingham>=1.3.0 in /usr/local/lib/python3.10/dist-packages (from typer<1.0.0,>=0.3.0->spacy->anchor-exp->-r Explainable-techniques/requirements.txt (line 6)) (1.5.4)\n",
            "Requirement already satisfied: markdown-it-py>=2.2.0 in /usr/local/lib/python3.10/dist-packages (from rich->keras>=3.2.0->tensorflow->-r Explainable-techniques/requirements.txt (line 15)) (3.0.0)\n",
            "Requirement already satisfied: pygments<3.0.0,>=2.13.0 in /usr/local/lib/python3.10/dist-packages (from rich->keras>=3.2.0->tensorflow->-r Explainable-techniques/requirements.txt (line 15)) (2.18.0)\n",
            "Requirement already satisfied: cloudpathlib<1.0.0,>=0.7.0 in /usr/local/lib/python3.10/dist-packages (from weasel<0.5.0,>=0.1.0->spacy->anchor-exp->-r Explainable-techniques/requirements.txt (line 6)) (0.19.0)\n",
            "Requirement already satisfied: smart-open<8.0.0,>=5.2.1 in /usr/local/lib/python3.10/dist-packages (from weasel<0.5.0,>=0.1.0->spacy->anchor-exp->-r Explainable-techniques/requirements.txt (line 6)) (7.0.4)\n",
            "Requirement already satisfied: marisa-trie>=0.7.7 in /usr/local/lib/python3.10/dist-packages (from language-data>=1.2->langcodes<4.0.0,>=3.2.0->spacy->anchor-exp->-r Explainable-techniques/requirements.txt (line 6)) (1.2.0)\n",
            "Requirement already satisfied: mdurl~=0.1 in /usr/local/lib/python3.10/dist-packages (from markdown-it-py>=2.2.0->rich->keras>=3.2.0->tensorflow->-r Explainable-techniques/requirements.txt (line 15)) (0.1.2)\n",
            "[Errno 20] Not a directory: 'Explainable-techniques/Explainable_Techniques_Assignment_05.ipynb'\n",
            "/content\n",
            "\u001b[0m\u001b[01;34mExplainable-techniques\u001b[0m/\n"
          ]
        }
      ],
      "source": [
        "# Please use this to connect your GitHub repository to your Google Colab notebook\n",
        "# Connects to any needed files from GitHub and Google Drive\n",
        "import os\n",
        "\n",
        "# Remove Colab default sample_data\n",
        "!rm -r ./sample_data\n",
        "\n",
        "# Clone GitHub files to colab workspace\n",
        "repo_name = \"Explainable-techniques\" # Change to your repo name\n",
        "git_path = 'https://github.com/akalpit23/Explainable-techniques.git' #Change to your path\n",
        "!git clone \"{git_path}\"\n",
        "\n",
        "# Install dependencies from requirements.txt file\n",
        "!pip install -r \"{os.path.join(repo_name,'requirements.txt')}\" #Add if using requirements.txt\n",
        "\n",
        "# Change working directory to location of notebook\n",
        "notebook_dir = 'Explainable_Techniques_Assignment_05.ipynb'\n",
        "path_to_notebook = os.path.join(repo_name,notebook_dir)\n",
        "%cd \"{path_to_notebook}\"\n",
        "%ls"
      ]
    },
    {
      "cell_type": "code",
      "execution_count": null,
      "metadata": {
        "id": "2iiwPIbKOPWh"
      },
      "outputs": [],
      "source": [
        "import pandas as pd\n",
        "import numpy as np\n",
        "import torch\n",
        "import xgboost as xgb\n",
        "import shap\n",
        "import lime\n",
        "import seaborn as sns\n",
        "import matplotlib.pyplot as plt\n",
        "import torch\n",
        "import torchvision.models as models\n",
        "import torchvision.transforms as transforms\n",
        "from torchvision.transforms import Compose, ToTensor, Normalize\n",
        "from lime import lime_image\n",
        "from sklearn.model_selection import train_test_split\n",
        "from anchor import anchor_tabular\n",
        "from sklearn.inspection import PartialDependenceDisplay\n",
        "from sklearn.metrics import accuracy_score, classification_report\n",
        "from tensorflow.keras.datasets import cifar10\n",
        "from transformers import BertTokenizer, BertForSequenceClassification, pipeline\n",
        "from PIL import Image\n",
        "from skimage.segmentation import mark_boundaries\n",
        "from alibi.explainers import AnchorImage\n",
        "\n",
        "## Progress bar\n",
        "from tqdm.notebook import tqdm"
      ]
    },
    {
      "cell_type": "code",
      "execution_count": null,
      "metadata": {
        "id": "BdA5-pbrOPWh"
      },
      "outputs": [],
      "source": [
        "# Load pre-trained ResNet34 model\n",
        "model = models.resnet34(pretrained=True)\n",
        "model.eval()"
      ]
    },
    {
      "cell_type": "code",
      "execution_count": null,
      "metadata": {
        "id": "ndi_EK8lOPWh"
      },
      "outputs": [],
      "source": [
        "# 3. Define image preprocessing steps (resize, normalize)\n",
        "preprocess = transforms.Compose([\n",
        "    transforms.Resize(256),\n",
        "    transforms.CenterCrop(224),\n",
        "    transforms.ToTensor(),\n",
        "    transforms.Normalize(mean=[0.485, 0.456, 0.406], std=[0.229, 0.224, 0.225])\n",
        "])"
      ]
    },
    {
      "cell_type": "code",
      "execution_count": null,
      "metadata": {
        "id": "AZDQqPWrOPWi"
      },
      "outputs": [],
      "source": [
        "# Load and preprocess the image\n",
        "image_path = \"/content/Explainable-techniques/Germanshepherd.jpg\"\n",
        "image = Image.open(image_path).convert('RGB')\n",
        "preprocess = Compose([\n",
        "    ToTensor(),\n",
        "    Normalize(mean=[0.485, 0.456, 0.406], std=[0.229, 0.224, 0.225])\n",
        "])\n",
        "input_tensor = preprocess(image).unsqueeze(0)\n",
        "\n",
        "# 5. Predict with the model\n",
        "output = model(input_tensor)\n",
        "_, pred_class = torch.max(output, 1)\n"
      ]
    },
    {
      "cell_type": "code",
      "execution_count": null,
      "metadata": {
        "id": "3nh2BFk1OPWi"
      },
      "outputs": [],
      "source": [
        "# 6. Define the LIME explainer\n",
        "explainer = lime_image.LimeImageExplainer()\n",
        "\n",
        "# 7. Function to predict the output of perturbed images for LIME\n",
        "def predict_fn(images):\n",
        "    batch = torch.stack([preprocess(Image.fromarray(img)) for img in images])\n",
        "    output = model(batch)\n",
        "    return output.detach().numpy()"
      ]
    },
    {
      "cell_type": "code",
      "execution_count": null,
      "metadata": {
        "id": "6AA0-AA8OPWi"
      },
      "outputs": [],
      "source": [
        "# 8. Generate explanations for the prediction\n",
        "explanation = explainer.explain_instance(np.array(image), predict_fn, top_labels=1, hide_color=0, num_samples=10)"
      ]
    },
    {
      "cell_type": "code",
      "execution_count": null,
      "metadata": {
        "id": "yJ86B_M7OPWi"
      },
      "outputs": [],
      "source": [
        "# 9. Visualize the explanation\n",
        "\n",
        "# Get the top predicted label from the explanation\n",
        "top_label = explanation.top_labels[0]\n",
        "\n",
        "# First visualization: Show explanation with positive_only=False, num_features=10, hide_rest=False\n",
        "temp, mask = explanation.get_image_and_mask(top_label, positive_only=False, num_features=10, hide_rest=False)\n",
        "plt.imshow(mark_boundaries(temp / 2 + 0.5, mask))  # Visualize the mask on the image\n",
        "plt.axis('off')\n",
        "plt.show()\n",
        "\n",
        "# Second visualization: Show explanation with positive_only=True, num_features=5, hide_rest=True\n",
        "temp, mask = explanation.get_image_and_mask(top_label, positive_only=True, num_features=5, hide_rest=True)\n",
        "plt.imshow(mark_boundaries(temp / 2 + 0.5, mask))  # Visualize the mask on the image\n",
        "plt.axis('off')\n",
        "plt.show()\n",
        "\n",
        "# Original visualization: Show explanation with positive_only=True, num_features=5, hide_rest=False\n",
        "temp, mask = explanation.get_image_and_mask(top_label, positive_only=True, num_features=5, hide_rest=False)\n",
        "plt.imshow(mark_boundaries(temp / 255.0, mask))  # Visualize the mask on the image\n",
        "plt.axis('off')\n",
        "plt.show()"
      ]
    },
    {
      "cell_type": "code",
      "execution_count": null,
      "metadata": {
        "id": "WKMIAVpUOPWi"
      },
      "outputs": [],
      "source": [
        "from torchvision import transforms\n",
        "\n",
        "# Define your transform\n",
        "transform = transforms.Compose([\n",
        "    transforms.Resize((224, 224)),  # Resize the image to 224x224 pixels\n",
        "    transforms.ToTensor(),  # Convert the image to PyTorch Tensor data type\n",
        "    # Add any other transformations you need\n",
        "])\n",
        "\n",
        "pil_image = Image.open(image_path).convert(\"RGB\")  # Load and convert image to RGB\n",
        "image_tensor = transform(pil_image).unsqueeze(0)"
      ]
    },
    {
      "cell_type": "code",
      "execution_count": null,
      "metadata": {
        "id": "_EASKVU7OPWi"
      },
      "outputs": [],
      "source": [
        "def predict_anchor(images):\n",
        "    batch = torch.stack([preprocess(Image.fromarray(img.astype(np.uint8))) for img in images])\n",
        "    output = model(batch)\n",
        "    return output.detach().numpy()  # Convert PyTorch tensor to numpy array"
      ]
    },
    {
      "cell_type": "code",
      "execution_count": null,
      "metadata": {
        "id": "MUD4x2d-OPWi"
      },
      "outputs": [],
      "source": [
        "# Initialize the AnchorImage explainer\n",
        "segmentation_fn = 'slic'\n",
        "kwargs = {'n_segments': 15, 'compactness': 20, 'sigma': .5}  # Adjust segmentation parameters as needed\n",
        "explainer = AnchorImage(predict_anchor, image_shape=(224, 224, 3), segmentation_fn=segmentation_fn,\n",
        "                        segmentation_kwargs=kwargs)\n",
        "\n",
        "# Explain the prediction for the input image (provide the image as a numpy array)\n",
        "np_image = np.array(pil_image)\n",
        "explanation = explainer.explain(np_image, threshold=0.95)\n",
        "\n",
        "# Visualize the anchor\n",
        "plt.imshow(explanation.anchor)\n",
        "plt.title(\"Anchor Visualization\")\n",
        "plt.axis('off')  # Turn off axis\n",
        "plt.show()\n",
        "\n",
        "# Visualize the superpixels\n",
        "plt.imshow(explanation.segments)\n",
        "plt.title(\"Superpixels/Segments Visualization\")\n",
        "plt.axis('off')  # Turn off axis\n",
        "plt.show()"
      ]
    },
    {
      "cell_type": "code",
      "execution_count": null,
      "metadata": {
        "id": "UrWAEygUOPWj"
      },
      "outputs": [],
      "source": [
        "import torch\n",
        "from torchvision.models import resnet34\n",
        "from pytorch_grad_cam import GradCAM, HiResCAM, ScoreCAM, GradCAMPlusPlus, AblationCAM, XGradCAM, EigenCAM, FullGrad\n",
        "from pytorch_grad_cam.utils.model_targets import ClassifierOutputTarget\n",
        "from pytorch_grad_cam.utils.image import show_cam_on_image\n",
        "from torchvision.transforms import Compose, Normalize, ToTensor\n",
        "from PIL import Image\n",
        "import numpy as np\n",
        "\n",
        "# Define target layers (usually the last convolutional layer)\n",
        "target_layers = [model.layer4[-1]]\n",
        "\n",
        "\n",
        "\n",
        "cam = GradCAM(model=model, target_layers=target_layers)\n",
        "\n",
        "\n",
        "# Define the target (e.g., class index 281 for 'tabby cat' in ImageNet)\n",
        "targets = [ClassifierOutputTarget(281)]\n",
        "\n",
        "# Generate the CAM\n",
        "grayscale_cam = cam(input_tensor=input_tensor, targets=targets)\n",
        "\n",
        "# Visualize the result\n",
        "rgb_img = np.array(image)\n",
        "visualization = show_cam_on_image(rgb_img/255.0, grayscale_cam[0], use_rgb=True)\n",
        "\n",
        "# Display or save the visualization\n",
        "import matplotlib.pyplot as plt\n",
        "plt.imshow(visualization)\n",
        "plt.axis('off')\n",
        "plt.show()\n"
      ]
    }
  ],
  "metadata": {
    "colab": {
      "provenance": [],
      "include_colab_link": true
    },
    "kernelspec": {
      "display_name": "base",
      "language": "python",
      "name": "python3"
    },
    "language_info": {
      "codemirror_mode": {
        "name": "ipython",
        "version": 3
      },
      "file_extension": ".py",
      "mimetype": "text/x-python",
      "name": "python",
      "nbconvert_exporter": "python",
      "pygments_lexer": "ipython3",
      "version": "3.11.5"
    }
  },
  "nbformat": 4,
  "nbformat_minor": 0
}