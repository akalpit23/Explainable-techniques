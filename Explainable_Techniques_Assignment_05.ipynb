{
 "cells": [
  {
   "cell_type": "markdown",
   "metadata": {},
   "source": [
    "# AIPI 590 - XAI | Assignment #05\n",
    "\n",
    "\n",
    "\n",
    "## Akalpit Dawkhar\n",
    "\n",
    "### **Explainable Techniques**\n",
    "\n",
    "### Overview"
   ]
  },
  {
   "cell_type": "code",
   "execution_count": null,
   "metadata": {},
   "outputs": [],
   "source": [
    "# Please use this to connect your GitHub repository to your Google Colab notebook\n",
    "# Connects to any needed files from GitHub and Google Drive\n",
    "import os\n",
    "\n",
    "# Remove Colab default sample_data\n",
    "!rm -r ./sample_data\n",
    "\n",
    "# Clone GitHub files to colab workspace\n",
    "repo_name = \"Adversarial-Patch\" # Change to your repo name\n",
    "git_path = 'https://github.com/akalpit23/Adve.git' #Change to your path\n",
    "!git clone \"{git_path}\"\n",
    "\n",
    "# Install dependencies from requirements.txt file\n",
    "#!pip install -r \"{os.path.join(repo_name,'requirements.txt')}\" #Add if using requirements.txt\n",
    "\n",
    "# Change working directory to location of notebook\n",
    "notebook_dir = 'Adversarial_Patch_Assignment_02.ipynb'\n",
    "path_to_notebook = os.path.join(repo_name,notebook_dir)\n",
    "%cd \"{path_to_notebook}\"\n",
    "%ls\n"
   ]
  }
 ],
 "metadata": {
  "language_info": {
   "name": "python"
  }
 },
 "nbformat": 4,
 "nbformat_minor": 2
}
