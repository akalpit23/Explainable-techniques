{
  "cells": [
    {
      "cell_type": "markdown",
      "metadata": {
        "id": "view-in-github",
        "colab_type": "text"
      },
      "source": [
        "<a href=\"https://colab.research.google.com/github/akalpit23/Explainable-techniques/blob/main/Assignment-7/Explainable_Deep_Learning_Assignment_07.ipynb\" target=\"_parent\"><img src=\"https://colab.research.google.com/assets/colab-badge.svg\" alt=\"Open In Colab\"/></a>"
      ]
    },
    {
      "cell_type": "markdown",
      "metadata": {
        "id": "hRp--YumqWdP"
      },
      "source": [
        "# AIPI 590 - XAI | Assignment #07\n",
        "\n",
        "\n",
        "\n",
        "## Akalpit Dawkhar\n",
        "\n",
        "### **Explainable_Deep_Learning**\n",
        "\n",
        "### Overview"
      ]
    },
    {
      "cell_type": "code",
      "execution_count": 1,
      "metadata": {
        "id": "eOq8iJqDqWdR",
        "colab": {
          "base_uri": "https://localhost:8080/"
        },
        "outputId": "680105a1-c27a-496f-e784-0b90af62907c"
      },
      "outputs": [
        {
          "output_type": "stream",
          "name": "stdout",
          "text": [
            "Cloning into 'Explainable-techniques'...\n",
            "remote: Enumerating objects: 233, done.\u001b[K\n",
            "remote: Counting objects: 100% (34/34), done.\u001b[K\n",
            "remote: Compressing objects: 100% (25/25), done.\u001b[K\n",
            "remote: Total 233 (delta 18), reused 24 (delta 9), pack-reused 199 (from 1)\u001b[K\n",
            "Receiving objects: 100% (233/233), 8.01 MiB | 12.97 MiB/s, done.\n",
            "Resolving deltas: 100% (119/119), done.\n",
            "\u001b[2K     \u001b[90m━━━━━━━━━━━━━━━━━━━━━━━━━━━━━━━━━━━━━━━━\u001b[0m \u001b[32m37.0/37.0 MB\u001b[0m \u001b[31m8.5 MB/s\u001b[0m eta \u001b[36m0:00:00\u001b[0m\n",
            "\u001b[?25h  Preparing metadata (setup.py) ... \u001b[?25l\u001b[?25hdone\n",
            "\u001b[2K     \u001b[90m━━━━━━━━━━━━━━━━━━━━━━━━━━━━━━━━━━━━━━━━\u001b[0m \u001b[32m47.9/47.9 MB\u001b[0m \u001b[31m12.6 MB/s\u001b[0m eta \u001b[36m0:00:00\u001b[0m\n",
            "\u001b[?25h  Preparing metadata (setup.py) ... \u001b[?25l\u001b[?25hdone\n",
            "\u001b[2K     \u001b[90m━━━━━━━━━━━━━━━━━━━━━━━━━━━━━━━━━━━━━━━━\u001b[0m \u001b[32m11.8/11.8 MB\u001b[0m \u001b[31m19.7 MB/s\u001b[0m eta \u001b[36m0:00:00\u001b[0m\n",
            "\u001b[?25h  Preparing metadata (setup.py) ... \u001b[?25l\u001b[?25hdone\n",
            "\u001b[2K     \u001b[90m━━━━━━━━━━━━━━━━━━━━━━━━━━━━━━━━━━━━━━━━\u001b[0m \u001b[32m23.1/23.1 MB\u001b[0m \u001b[31m11.4 MB/s\u001b[0m eta \u001b[36m0:00:00\u001b[0m\n",
            "\u001b[?25h  Preparing metadata (setup.py) ... \u001b[?25l\u001b[?25hdone\n",
            "\u001b[2K     \u001b[90m━━━━━━━━━━━━━━━━━━━━━━━━━━━━━━━━━━━━━━━━\u001b[0m \u001b[32m7.3/7.3 MB\u001b[0m \u001b[31m48.0 MB/s\u001b[0m eta \u001b[36m0:00:00\u001b[0m\n",
            "\u001b[?25h  Installing build dependencies ... \u001b[?25l\u001b[?25hdone\n",
            "  Getting requirements to build wheel ... \u001b[?25l\u001b[?25hdone\n",
            "  \u001b[1;31merror\u001b[0m: \u001b[1msubprocess-exited-with-error\u001b[0m\n",
            "  \n",
            "  \u001b[31m×\u001b[0m \u001b[32mPreparing metadata \u001b[0m\u001b[1;32m(\u001b[0m\u001b[32mpyproject.toml\u001b[0m\u001b[1;32m)\u001b[0m did not run successfully.\n",
            "  \u001b[31m│\u001b[0m exit code: \u001b[1;36m1\u001b[0m\n",
            "  \u001b[31m╰─>\u001b[0m See above for output.\n",
            "  \n",
            "  \u001b[1;35mnote\u001b[0m: This error originates from a subprocess, and is likely not a problem with pip.\n",
            "  Preparing metadata (pyproject.toml) ... \u001b[?25l\u001b[?25herror\n",
            "\u001b[1;31merror\u001b[0m: \u001b[1mmetadata-generation-failed\u001b[0m\n",
            "\n",
            "\u001b[31m×\u001b[0m Encountered error while generating package metadata.\n",
            "\u001b[31m╰─>\u001b[0m See above for output.\n",
            "\n",
            "\u001b[1;35mnote\u001b[0m: This is an issue with the package mentioned above, not pip.\n",
            "\u001b[1;36mhint\u001b[0m: See above for details.\n",
            "/content/Explainable-techniques/Assignment-7\n",
            "Explainable_Deep_Learning_Assignment_07.ipynb  requirements.txt\n"
          ]
        }
      ],
      "source": [
        "# Please use this to connect your GitHub repository to your Google Colab notebook\n",
        "# Connects to any needed files from GitHub and Google Drive\n",
        "import os\n",
        "\n",
        "# Remove Colab default sample_data\n",
        "!rm -r ./sample_data\n",
        "\n",
        "# Clone GitHub files to colab workspace\n",
        "repo_name = \"Explainable-techniques/Assignment-7\" # Change to your repo name\n",
        "git_path = 'https://github.com/akalpit23/Explainable-techniques.git' #Change to your path\n",
        "!git clone \"{git_path}\"\n",
        "\n",
        "# Install dependencies from requirements.txt file\n",
        "!pip install -q -r \"{os.path.join(repo_name,'requirements.txt')}\" #Add if using requirements.txt\n",
        "\n",
        "# Change working directory to location of notebook\n",
        "notebook_dir = ''\n",
        "path_to_notebook = os.path.join(repo_name,notebook_dir)\n",
        "%cd \"/content/Explainable-techniques/Assignment-7\"\n",
        "%ls"
      ]
    },
    {
      "cell_type": "markdown",
      "metadata": {
        "id": "LfJhpajIDh1U"
      },
      "source": [
        "# Working with TCAV"
      ]
    },
    {
      "cell_type": "code",
      "execution_count": 2,
      "metadata": {
        "colab": {
          "base_uri": "https://localhost:8080/"
        },
        "id": "bCkDJGzrDh1V",
        "outputId": "45db101a-5597-4f16-e62c-90c114266a4a"
      },
      "outputs": [
        {
          "output_type": "stream",
          "name": "stdout",
          "text": [
            "Cloning into 'tcav'...\n",
            "remote: Enumerating objects: 709, done.\u001b[K\n",
            "remote: Counting objects: 100% (139/139), done.\u001b[K\n",
            "remote: Compressing objects: 100% (28/28), done.\u001b[K\n",
            "remote: Total 709 (delta 125), reused 111 (delta 111), pack-reused 570 (from 1)\u001b[K\n",
            "Receiving objects: 100% (709/709), 617.05 KiB | 4.67 MiB/s, done.\n",
            "Resolving deltas: 100% (419/419), done.\n",
            "/content/Explainable-techniques/Assignment-7/tcav\n",
            "CONTRIBUTING.md        LICENSE\t  requirements.txt  Run_TCAV_on_colab.ipynb  tcav\n",
            "FetchDataAndModels.sh  README.md  Run_TCAV.ipynb    setup.py\n"
          ]
        }
      ],
      "source": [
        "# We are going to clone the tcav repo in GitHub:\n",
        "!git clone https://github.com/tensorflow/tcav.git tcav\n",
        "%cd tcav\n",
        "!ls"
      ]
    },
    {
      "cell_type": "markdown",
      "source": [
        "### Creating a monkey patch to change classes and broden concepts"
      ],
      "metadata": {
        "id": "qm7zR2YQIGmL"
      }
    },
    {
      "cell_type": "code",
      "source": [
        "import importlib.util\n",
        "\n",
        "import sys\n",
        "sys.path.append('/content/Explainable-techniques/Assignment-7/tcav/tcav/tcav_examples/image_models/imagenet')\n",
        "\n",
        "# Define the path to the file that you want to import\n",
        "module_path = \"/content/Explainable-techniques/Assignment-7/tcav/tcav/tcav_examples/image_models/imagenet/download_and_make_datasets.py\"\n",
        "\n",
        "\n",
        "# Load the module\n",
        "spec = importlib.util.spec_from_file_location(\"download_and_make_datasets\", module_path)\n",
        "original_script = importlib.util.module_from_spec(spec)\n",
        "spec.loader.exec_module(original_script)\n",
        "\n",
        "# Define the new function with the updated classes and concepts\n",
        "def make_concepts_targets_and_randoms_patched(source_dir, number_of_images_per_folder, number_of_random_folders):\n",
        "    import subprocess\n",
        "    import os\n",
        "    from tensorflow.io import gfile\n",
        "    import imagenet_and_broden_fetcher as fetcher\n",
        "\n",
        "    # Run script to download data to source_dir\n",
        "    if not gfile.exists(source_dir):\n",
        "        gfile.makedirs(source_dir)\n",
        "    if not gfile.exists(os.path.join(source_dir, 'broden1_224/')) or not gfile.exists(os.path.join(source_dir, 'inception5h')):\n",
        "        subprocess.call(['bash', 'FetchDataAndModels.sh', source_dir])\n",
        "\n",
        "    # Patch: Change the classes and concepts\n",
        "    imagenet_classes = ['leopard']  # Changed from 'zebra' to 'eagle'\n",
        "    broden_concepts = ['dotted', 'perforated', 'banded']  # Changed from 'striped', 'dotted', 'zigzagged'\n",
        "\n",
        "    # Fetch targets from ImageNet\n",
        "    imagenet_dataframe = fetcher.make_imagenet_dataframe(\"/content/Explainable-techniques/Assignment-7/tcav/tcav/tcav_examples/image_models/imagenet/imagenet_url_map.csv\")\n",
        "    for image in imagenet_classes:\n",
        "        fetcher.fetch_imagenet_class(source_dir, image, number_of_images_per_folder, imagenet_dataframe)\n",
        "\n",
        "    # Fetch concepts from Broden\n",
        "    for concept in broden_concepts:\n",
        "        fetcher.download_texture_to_working_folder(broden_path=os.path.join(source_dir, 'broden1_224'),\n",
        "                                                   saving_path=source_dir,\n",
        "                                                   texture_name=concept,\n",
        "                                                   number_of_images=number_of_images_per_folder)\n",
        "\n",
        "    # Create random folders for TCAV experiments\n",
        "    fetcher.generate_random_folders(\n",
        "        working_directory=source_dir,\n",
        "        random_folder_prefix=\"random500\",\n",
        "        number_of_random_folders=number_of_random_folders + 1,\n",
        "        number_of_examples_per_folder=number_of_images_per_folder,\n",
        "        imagenet_dataframe=imagenet_dataframe\n",
        "    )\n",
        "\n",
        "# Override the original function with the patched version\n",
        "original_script.make_concepts_targets_and_randoms = make_concepts_targets_and_randoms_patched\n",
        "\n",
        "\n",
        "# Now you can run the patched function\n",
        "if __name__ == '__main__':\n",
        "    source_dir = \"/content/Explainable-techniques/Assignment-7/tcav/tcav/tcav_examples/image_models/imagenet/YOUR_FOLDER\"  # Specify your directory\n",
        "    number_of_images_per_folder = 10  # Number of images per class or concept\n",
        "    number_of_random_folders = 10  # Number of random folders for TCAV\n",
        "\n",
        "    original_script.make_concepts_targets_and_randoms(\n",
        "        source_dir, number_of_images_per_folder, number_of_random_folders\n",
        "    )\n"
      ],
      "metadata": {
        "colab": {
          "base_uri": "https://localhost:8080/"
        },
        "id": "tWnUM07oJP5H",
        "outputId": "87834ea0-ce7e-4aa0-a87e-022b4cbf2edf"
      },
      "execution_count": 3,
      "outputs": [
        {
          "output_type": "stream",
          "name": "stdout",
          "text": [
            "Downloaded 10 for leopard\n"
          ]
        }
      ]
    },
    {
      "cell_type": "code",
      "source": [
        "# Next, we will create the datasets\n",
        "%cd /content/Explainable-techniques/Assignment-7/tcav/tcav/tcav_examples/image_models/imagenet\n",
        "%run download_and_make_datasets.py --source_dir=YOUR_FOLDER --number_of_images_per_folder=10 --number_of_random_folders=10\n",
        "\n",
        "%cd /content/tcav"
      ],
      "metadata": {
        "colab": {
          "base_uri": "https://localhost:8080/"
        },
        "id": "ApEoGMT5aHE3",
        "outputId": "fba21844-46e6-4868-ce5c-c685036a050f"
      },
      "execution_count": 4,
      "outputs": [
        {
          "output_type": "stream",
          "name": "stdout",
          "text": [
            "/content/Explainable-techniques/Assignment-7/tcav/tcav/tcav_examples/image_models/imagenet\n",
            "Downloaded 10 for zebra\n",
            "Successfully created data at YOUR_FOLDER\n",
            "[Errno 2] No such file or directory: '/content/tcav'\n",
            "/content/Explainable-techniques/Assignment-7/tcav/tcav/tcav_examples/image_models/imagenet\n"
          ]
        }
      ]
    },
    {
      "cell_type": "markdown",
      "metadata": {
        "id": "eIl82_W5qWdT"
      },
      "source": [
        "# Hypothesis:\n",
        "\n",
        "Null Hypothesis (H0): The ResNet50 model pre-trained on ImageNet does not show a significant difference in its ability to learn the concept \"dotted\" compared to the concepts \"striped\" and \"banded\" for the class 'leopard'.\n",
        "\n",
        "Alternative Hypothesis (H1): The ResNet50 model pre-trained on ImageNet shows a significant difference in its ability to learn the concept \"dotted\" compared to the concepts \"striped\" and \"banded\" for the class 'leopard', specifically, it learns the concept \"dotted\" but not the concepts \"striped\" or \"banded\"."
      ]
    },
    {
      "cell_type": "code",
      "execution_count": 5,
      "metadata": {
        "id": "dy9T3QD4qWdT",
        "colab": {
          "base_uri": "https://localhost:8080/"
        },
        "outputId": "8153ca5d-b603-441a-8faa-d9c6e5fde8e9"
      },
      "outputs": [
        {
          "output_type": "stream",
          "name": "stdout",
          "text": [
            "Collecting tcav\n",
            "  Downloading tcav-0.2.2-py3-none-any.whl.metadata (4.4 kB)\n",
            "Collecting matplotlib==2.2.4\n",
            "  Using cached matplotlib-2.2.4.tar.gz (37.0 MB)\n",
            "  Preparing metadata (setup.py) ... \u001b[?25l\u001b[?25hdone\n",
            "Collecting Pillow==8.2.0\n",
            "  Using cached Pillow-8.2.0.tar.gz (47.9 MB)\n",
            "  Preparing metadata (setup.py) ... \u001b[?25l\u001b[?25hdone\n",
            "Collecting scikit-learn==0.20.3\n",
            "  Using cached scikit-learn-0.20.3.tar.gz (11.8 MB)\n",
            "  Preparing metadata (setup.py) ... \u001b[?25l\u001b[?25hdone\n",
            "Collecting scipy==1.2.1\n",
            "  Using cached scipy-1.2.1.tar.gz (23.1 MB)\n",
            "  Preparing metadata (setup.py) ... \u001b[?25l\u001b[?25hdone\n",
            "Collecting tensorflow==2.14.1\n",
            "  Using cached tensorflow-2.14.1-cp310-cp310-manylinux_2_17_x86_64.manylinux2014_x86_64.whl.metadata (4.1 kB)\n",
            "Collecting numpy==1.19.2\n",
            "  Using cached numpy-1.19.2.zip (7.3 MB)\n",
            "  Installing build dependencies ... \u001b[?25l\u001b[?25hdone\n",
            "  Getting requirements to build wheel ... \u001b[?25l\u001b[?25hdone\n",
            "  \u001b[1;31merror\u001b[0m: \u001b[1msubprocess-exited-with-error\u001b[0m\n",
            "  \n",
            "  \u001b[31m×\u001b[0m \u001b[32mPreparing metadata \u001b[0m\u001b[1;32m(\u001b[0m\u001b[32mpyproject.toml\u001b[0m\u001b[1;32m)\u001b[0m did not run successfully.\n",
            "  \u001b[31m│\u001b[0m exit code: \u001b[1;36m1\u001b[0m\n",
            "  \u001b[31m╰─>\u001b[0m See above for output.\n",
            "  \n",
            "  \u001b[1;35mnote\u001b[0m: This error originates from a subprocess, and is likely not a problem with pip.\n",
            "  Preparing metadata (pyproject.toml) ... \u001b[?25l\u001b[?25herror\n",
            "\u001b[1;31merror\u001b[0m: \u001b[1mmetadata-generation-failed\u001b[0m\n",
            "\n",
            "\u001b[31m×\u001b[0m Encountered error while generating package metadata.\n",
            "\u001b[31m╰─>\u001b[0m See above for output.\n",
            "\n",
            "\u001b[1;35mnote\u001b[0m: This is an issue with the package mentioned above, not pip.\n",
            "\u001b[1;36mhint\u001b[0m: See above for details.\n"
          ]
        }
      ],
      "source": [
        "!pip install tcav matplotlib==2.2.4 Pillow==8.2.0 scikit-learn==0.20.3 scipy==1.2.1 tensorflow==2.14.1 numpy==1.19.2 protobuf==3.10.0 pandas==1.0.3"
      ]
    },
    {
      "cell_type": "code",
      "execution_count": 6,
      "metadata": {
        "id": "T7oHUfPmqWdT",
        "outputId": "72d034d0-e95a-485f-d9ba-4a270f40cb4e",
        "colab": {
          "base_uri": "https://localhost:8080/",
          "height": 367
        }
      },
      "outputs": [
        {
          "output_type": "error",
          "ename": "ModuleNotFoundError",
          "evalue": "No module named 'tcav'",
          "traceback": [
            "\u001b[0;31m---------------------------------------------------------------------------\u001b[0m",
            "\u001b[0;31mModuleNotFoundError\u001b[0m                       Traceback (most recent call last)",
            "\u001b[0;32m<ipython-input-6-15ae4ee41878>\u001b[0m in \u001b[0;36m<cell line: 12>\u001b[0;34m()\u001b[0m\n\u001b[1;32m     10\u001b[0m \u001b[0;34m\u001b[0m\u001b[0m\n\u001b[1;32m     11\u001b[0m \u001b[0;31m#XAI\u001b[0m\u001b[0;34m\u001b[0m\u001b[0;34m\u001b[0m\u001b[0m\n\u001b[0;32m---> 12\u001b[0;31m \u001b[0;32mimport\u001b[0m \u001b[0mtcav\u001b[0m\u001b[0;34m.\u001b[0m\u001b[0mactivation_generator\u001b[0m \u001b[0;32mas\u001b[0m \u001b[0mact_gen\u001b[0m\u001b[0;34m\u001b[0m\u001b[0;34m\u001b[0m\u001b[0m\n\u001b[0m\u001b[1;32m     13\u001b[0m \u001b[0;32mimport\u001b[0m \u001b[0mtcav\u001b[0m\u001b[0;34m.\u001b[0m\u001b[0mcav\u001b[0m \u001b[0;32mas\u001b[0m \u001b[0mcav\u001b[0m\u001b[0;34m\u001b[0m\u001b[0;34m\u001b[0m\u001b[0m\n\u001b[1;32m     14\u001b[0m \u001b[0;32mimport\u001b[0m \u001b[0mtcav\u001b[0m\u001b[0;34m.\u001b[0m\u001b[0mmodel\u001b[0m  \u001b[0;32mas\u001b[0m \u001b[0mmodel\u001b[0m\u001b[0;34m\u001b[0m\u001b[0;34m\u001b[0m\u001b[0m\n",
            "\u001b[0;31mModuleNotFoundError\u001b[0m: No module named 'tcav'",
            "",
            "\u001b[0;31m---------------------------------------------------------------------------\u001b[0;32m\nNOTE: If your import is failing due to a missing package, you can\nmanually install dependencies using either !pip or !apt.\n\nTo view examples of installing some common dependencies, click the\n\"Open Examples\" button below.\n\u001b[0;31m---------------------------------------------------------------------------\u001b[0m\n"
          ],
          "errorDetails": {
            "actions": [
              {
                "action": "open_url",
                "actionText": "Open Examples",
                "url": "/notebooks/snippets/importing_libraries.ipynb"
              }
            ]
          }
        }
      ],
      "source": [
        "# Basic\n",
        "import os\n",
        "import absl\n",
        "import random\n",
        "import matplotlib.pyplot as plt\n",
        "from PIL import Image\n",
        "\n",
        "# Models\n",
        "import tensorflow as tf\n",
        "\n",
        "#XAI\n",
        "import tcav.activation_generator as act_gen\n",
        "import tcav.cav as cav\n",
        "import tcav.model  as model\n",
        "import tcav.tcav as tcav\n",
        "import tcav.utils as utils\n",
        "import tcav.utils_plot as utils_plot"
      ]
    },
    {
      "cell_type": "code",
      "source": [
        "# Model wrapper (InceptionV3 and GoogleNet are provided in model.py)\n",
        "model_to_run = 'GoogleNet'\n",
        "# Name of the parent directory that results are stored (if cacheing)\n",
        "project_name = 'tcav_class_test'\n",
        "working_dir = '/content/tcav/tcav'\n",
        "# Location where activations are stored\n",
        "activation_dir =  working_dir+ '/activations/'\n",
        "# Location where CAVs are stored (or None if not storing)\n",
        "cav_dir = working_dir + '/cavs/'\n",
        "# Location of images\n",
        "source_dir = '/content/tcav/tcav/tcav_examples/image_models/imagenet/YOUR_FOLDER'\n",
        "# Bottleneck layer\n",
        "bottlenecks = ['mixed4c']\n",
        "\n",
        "# Create directories if they don't exist\n",
        "utils.make_dir_if_not_exists(activation_dir)\n",
        "utils.make_dir_if_not_exists(working_dir)\n",
        "utils.make_dir_if_not_exists(cav_dir)\n",
        "\n",
        "# Regularizer penalty parameter for linear classifier to get CAVs\n",
        "alphas = [0.1]\n",
        "\n",
        "target = 'leopard'\n",
        "concepts = [\"dotted\",\"striped\",\"banded\"]"
      ],
      "metadata": {
        "id": "AW4aPOpTX6m7"
      },
      "execution_count": null,
      "outputs": []
    },
    {
      "cell_type": "code",
      "source": [
        "%cp -av '/content/Explainable-techniques/Assignment-7/tcav/tcav/tcav_examples/image_models/imagenet/YOUR_FOLDER/mobilenet_v2_1.0_224' '/content/tcav/tcav/mobilenet_v2_1.0_224'\n",
        "%rm '/content/Explainable-techniques/Assignment-7/tcav/tcav/tcav_examples/image_models/imagenet/YOUR_FOLDER/mobilenet_v2_1.0_224'"
      ],
      "metadata": {
        "id": "yRa03XzSYuwN"
      },
      "execution_count": null,
      "outputs": []
    },
    {
      "cell_type": "code",
      "source": [
        "%cp -av '/content/Explainable-techniques/Assignment-7/tcav/tcav/tcav_examples/image_models/imagenet/YOUR_FOLDER/inception5h' '/content/tcav/tcav/inception5h'\n",
        "%rm '/content/Explainable-techniques/Assignment-7/tcav/tcav/tcav_examples/image_models/imagenet/YOUR_FOLDER/inception5h"
      ],
      "metadata": {
        "id": "NLcLAbJ3YuoQ"
      },
      "execution_count": null,
      "outputs": []
    },
    {
      "cell_type": "code",
      "source": [
        "def display_random_images(directory, num_images):\n",
        "    # Get list of files in the directory\n",
        "    files = os.listdir(directory)\n",
        "\n",
        "    # Filter out non-image files\n",
        "    image_files = [f for f in files if f.endswith('.jpg')]\n",
        "\n",
        "    # Check if there are enough image files\n",
        "    if len(image_files) < num_images:\n",
        "        print(f\"Not enough images in {directory}.\")\n",
        "        return\n",
        "\n",
        "    # Select random images\n",
        "    random_images = random.sample(image_files, num_images)\n",
        "\n",
        "    # Display selected images\n",
        "    fig, axs = plt.subplots(1, num_images, figsize=(15, 5))\n",
        "    for i, image_file in enumerate(random_images):\n",
        "        image_path = os.path.join(directory, image_file)\n",
        "        image = Image.open(image_path)\n",
        "        axs[i].imshow(image)\n",
        "        axs[i].axis('off')\n",
        "    plt.show()\n",
        "\n",
        "# Define source directory\n",
        "source_dir = '/content/Explainable-techniques/Assignment-7/tcav/tcav/tcav_examples/image_models/imagenet/YOUR_FOLDER'\n",
        "target = 'leopard'\n",
        "concepts = [\"dotted\",\"striped\",\"banded\"]\n",
        "random_folder = 'random500_10'\n",
        "\n",
        "# Display 3 images from the target folder in a row\n",
        "print(\"Images from target folder:\")\n",
        "display_random_images(os.path.join(source_dir, target), 3)\n",
        "\n",
        "# Display 3 images from each concept folder\n",
        "for concept in concepts:\n",
        "    print(f\"Images from {concept} folder:\")\n",
        "    display_random_images(os.path.join(source_dir, concept), 3)\n",
        "\n",
        "# Display 3 images from a random folder\n",
        "print(\"Images from random folder:\")\n",
        "display_random_images(os.path.join(source_dir, random_folder), 3)\n"
      ],
      "metadata": {
        "id": "k-Tbjx-IYulh"
      },
      "execution_count": null,
      "outputs": []
    },
    {
      "cell_type": "code",
      "source": [
        "sess = utils.create_session() # a tensorflow session\n",
        "\n",
        "GRAPH_PATH = \"/content/tcav/tcav/inception5h/tensorflow_inception_graph.pb\"\n",
        "LABEL_PATH = \"/content/tcav/tcav/inception5h/imagenet_comp_graph_label_strings.txt\"\n",
        "\n",
        "mymodel = model.GoogleNetWrapper_public(sess,\n",
        "                                        GRAPH_PATH,\n",
        "                                        LABEL_PATH)"
      ],
      "metadata": {
        "id": "3GDyKs5sZQ4i"
      },
      "execution_count": null,
      "outputs": []
    },
    {
      "cell_type": "code",
      "source": [
        "act_generator = act_gen.ImageActivationGenerator(mymodel, source_dir, activation_dir, max_examples=100)"
      ],
      "metadata": {
        "id": "CJ1aZM1Ie8DY"
      },
      "execution_count": null,
      "outputs": []
    },
    {
      "cell_type": "code",
      "source": [
        "absl.logging.set_verbosity(0)\n",
        "num_random_exp=10 # Recommend >10\n",
        "mytcav = tcav.TCAV(sess,\n",
        "                   target,\n",
        "                   concepts,\n",
        "                   bottlenecks,\n",
        "                   act_generator,\n",
        "                   alphas,\n",
        "                   cav_dir=cav_dir,\n",
        "                   num_random_exp=num_random_exp)#10)\n",
        "print ('Started')\n",
        "results = mytcav.run(run_parallel=False)\n",
        "print ('Completed')"
      ],
      "metadata": {
        "id": "WSXa11ole-K7"
      },
      "execution_count": null,
      "outputs": []
    },
    {
      "cell_type": "code",
      "source": [
        "utils_plot.plot_results(results, num_random_exp=num_random_exp)"
      ],
      "metadata": {
        "id": "xDbBoALDfBEw"
      },
      "execution_count": null,
      "outputs": []
    }
  ],
  "metadata": {
    "colab": {
      "provenance": [],
      "include_colab_link": true
    },
    "kernelspec": {
      "display_name": "Python 3",
      "language": "python",
      "name": "python3"
    },
    "language_info": {
      "codemirror_mode": {
        "name": "ipython",
        "version": 3
      },
      "file_extension": ".py",
      "mimetype": "text/x-python",
      "name": "python",
      "nbconvert_exporter": "python",
      "pygments_lexer": "ipython3",
      "version": "3.12.6"
    }
  },
  "nbformat": 4,
  "nbformat_minor": 0
}